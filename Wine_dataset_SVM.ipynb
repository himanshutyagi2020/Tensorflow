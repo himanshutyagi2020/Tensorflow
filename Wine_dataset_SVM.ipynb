{
  "nbformat": 4,
  "nbformat_minor": 0,
  "metadata": {
    "colab": {
      "name": "Wine_dataset_SVM.ipynb",
      "provenance": [],
      "toc_visible": true,
      "authorship_tag": "ABX9TyPvJLuax52cQItdmqlc5pkL",
      "include_colab_link": true
    },
    "kernelspec": {
      "name": "python3",
      "display_name": "Python 3"
    },
    "language_info": {
      "name": "python"
    }
  },
  "cells": [
    {
      "cell_type": "markdown",
      "metadata": {
        "id": "view-in-github",
        "colab_type": "text"
      },
      "source": [
        "<a href=\"https://colab.research.google.com/github/himanshutyagi2020/Tensorflow/blob/main/Wine_dataset_SVM.ipynb\" target=\"_parent\"><img src=\"https://colab.research.google.com/assets/colab-badge.svg\" alt=\"Open In Colab\"/></a>"
      ]
    },
    {
      "cell_type": "code",
      "metadata": {
        "colab": {
          "base_uri": "https://localhost:8080/"
        },
        "id": "jTL2GMMWfGg_",
        "outputId": "580952a5-2479-4383-d49f-f24b35871a01"
      },
      "source": [
        "# Mounting the drive\n",
        "from google.colab import drive\n",
        "drive.mount('/content/gdrive', force_remount=True)"
      ],
      "execution_count": 1,
      "outputs": [
        {
          "output_type": "stream",
          "text": [
            "Mounted at /content/gdrive\n"
          ],
          "name": "stdout"
        }
      ]
    },
    {
      "cell_type": "code",
      "metadata": {
        "colab": {
          "base_uri": "https://localhost:8080/"
        },
        "id": "6qmfvqjBfHPG",
        "outputId": "c05c8101-e6aa-4903-d1a9-d4a6b833a00b"
      },
      "source": [
        "#List the content (Access the google drive)\n",
        "!ls \"/content/gdrive/MyDrive/Problem\""
      ],
      "execution_count": 6,
      "outputs": [
        {
          "output_type": "stream",
          "text": [
            "wine_fraud.csv\n"
          ],
          "name": "stdout"
        }
      ]
    },
    {
      "cell_type": "markdown",
      "metadata": {
        "id": "MTVmmzvHj8c0"
      },
      "source": [
        "#import the libraries and load the dataset"
      ]
    },
    {
      "cell_type": "code",
      "metadata": {
        "id": "chN4Mm8wfQmq"
      },
      "source": [
        "\n",
        "import numpy as np\n",
        "import pandas as pd\n",
        "import seaborn as sns\n",
        "import matplotlib.pyplot as plt"
      ],
      "execution_count": 8,
      "outputs": []
    },
    {
      "cell_type": "code",
      "metadata": {
        "id": "Ko3KqzLqfuQ2"
      },
      "source": [
        "df=pd.read_csv(\"/content/gdrive/MyDrive/Problem/wine_fraud.csv\")"
      ],
      "execution_count": 10,
      "outputs": []
    },
    {
      "cell_type": "code",
      "metadata": {
        "colab": {
          "base_uri": "https://localhost:8080/",
          "height": 238
        },
        "id": "gQm6CVZtfy30",
        "outputId": "8a3225b9-0107-44d6-adda-55b7b472c67a"
      },
      "source": [
        "df.head()"
      ],
      "execution_count": 11,
      "outputs": [
        {
          "output_type": "execute_result",
          "data": {
            "text/html": [
              "<div>\n",
              "<style scoped>\n",
              "    .dataframe tbody tr th:only-of-type {\n",
              "        vertical-align: middle;\n",
              "    }\n",
              "\n",
              "    .dataframe tbody tr th {\n",
              "        vertical-align: top;\n",
              "    }\n",
              "\n",
              "    .dataframe thead th {\n",
              "        text-align: right;\n",
              "    }\n",
              "</style>\n",
              "<table border=\"1\" class=\"dataframe\">\n",
              "  <thead>\n",
              "    <tr style=\"text-align: right;\">\n",
              "      <th></th>\n",
              "      <th>fixed acidity</th>\n",
              "      <th>volatile acidity</th>\n",
              "      <th>citric acid</th>\n",
              "      <th>residual sugar</th>\n",
              "      <th>chlorides</th>\n",
              "      <th>free sulfur dioxide</th>\n",
              "      <th>total sulfur dioxide</th>\n",
              "      <th>density</th>\n",
              "      <th>pH</th>\n",
              "      <th>sulphates</th>\n",
              "      <th>alcohol</th>\n",
              "      <th>quality</th>\n",
              "      <th>type</th>\n",
              "    </tr>\n",
              "  </thead>\n",
              "  <tbody>\n",
              "    <tr>\n",
              "      <th>0</th>\n",
              "      <td>7.4</td>\n",
              "      <td>0.70</td>\n",
              "      <td>0.00</td>\n",
              "      <td>1.9</td>\n",
              "      <td>0.076</td>\n",
              "      <td>11.0</td>\n",
              "      <td>34.0</td>\n",
              "      <td>0.9978</td>\n",
              "      <td>3.51</td>\n",
              "      <td>0.56</td>\n",
              "      <td>9.4</td>\n",
              "      <td>Legit</td>\n",
              "      <td>red</td>\n",
              "    </tr>\n",
              "    <tr>\n",
              "      <th>1</th>\n",
              "      <td>7.8</td>\n",
              "      <td>0.88</td>\n",
              "      <td>0.00</td>\n",
              "      <td>2.6</td>\n",
              "      <td>0.098</td>\n",
              "      <td>25.0</td>\n",
              "      <td>67.0</td>\n",
              "      <td>0.9968</td>\n",
              "      <td>3.20</td>\n",
              "      <td>0.68</td>\n",
              "      <td>9.8</td>\n",
              "      <td>Legit</td>\n",
              "      <td>red</td>\n",
              "    </tr>\n",
              "    <tr>\n",
              "      <th>2</th>\n",
              "      <td>7.8</td>\n",
              "      <td>0.76</td>\n",
              "      <td>0.04</td>\n",
              "      <td>2.3</td>\n",
              "      <td>0.092</td>\n",
              "      <td>15.0</td>\n",
              "      <td>54.0</td>\n",
              "      <td>0.9970</td>\n",
              "      <td>3.26</td>\n",
              "      <td>0.65</td>\n",
              "      <td>9.8</td>\n",
              "      <td>Legit</td>\n",
              "      <td>red</td>\n",
              "    </tr>\n",
              "    <tr>\n",
              "      <th>3</th>\n",
              "      <td>11.2</td>\n",
              "      <td>0.28</td>\n",
              "      <td>0.56</td>\n",
              "      <td>1.9</td>\n",
              "      <td>0.075</td>\n",
              "      <td>17.0</td>\n",
              "      <td>60.0</td>\n",
              "      <td>0.9980</td>\n",
              "      <td>3.16</td>\n",
              "      <td>0.58</td>\n",
              "      <td>9.8</td>\n",
              "      <td>Legit</td>\n",
              "      <td>red</td>\n",
              "    </tr>\n",
              "    <tr>\n",
              "      <th>4</th>\n",
              "      <td>7.4</td>\n",
              "      <td>0.70</td>\n",
              "      <td>0.00</td>\n",
              "      <td>1.9</td>\n",
              "      <td>0.076</td>\n",
              "      <td>11.0</td>\n",
              "      <td>34.0</td>\n",
              "      <td>0.9978</td>\n",
              "      <td>3.51</td>\n",
              "      <td>0.56</td>\n",
              "      <td>9.4</td>\n",
              "      <td>Legit</td>\n",
              "      <td>red</td>\n",
              "    </tr>\n",
              "  </tbody>\n",
              "</table>\n",
              "</div>"
            ],
            "text/plain": [
              "   fixed acidity  volatile acidity  citric acid  ...  alcohol  quality  type\n",
              "0            7.4              0.70         0.00  ...      9.4    Legit   red\n",
              "1            7.8              0.88         0.00  ...      9.8    Legit   red\n",
              "2            7.8              0.76         0.04  ...      9.8    Legit   red\n",
              "3           11.2              0.28         0.56  ...      9.8    Legit   red\n",
              "4            7.4              0.70         0.00  ...      9.4    Legit   red\n",
              "\n",
              "[5 rows x 13 columns]"
            ]
          },
          "metadata": {},
          "execution_count": 11
        }
      ]
    },
    {
      "cell_type": "code",
      "metadata": {
        "colab": {
          "base_uri": "https://localhost:8080/"
        },
        "id": "Oyp9wfLxgF49",
        "outputId": "19e92ba4-418e-4aef-b6d5-762614ebcc8c"
      },
      "source": [
        "df.columns"
      ],
      "execution_count": 12,
      "outputs": [
        {
          "output_type": "execute_result",
          "data": {
            "text/plain": [
              "Index(['fixed acidity', 'volatile acidity', 'citric acid', 'residual sugar',\n",
              "       'chlorides', 'free sulfur dioxide', 'total sulfur dioxide', 'density',\n",
              "       'pH', 'sulphates', 'alcohol', 'quality', 'type'],\n",
              "      dtype='object')"
            ]
          },
          "metadata": {},
          "execution_count": 12
        }
      ]
    },
    {
      "cell_type": "code",
      "metadata": {
        "colab": {
          "base_uri": "https://localhost:8080/"
        },
        "id": "ZwI4WTIFjkv_",
        "outputId": "101d989a-bab0-47fd-c4f4-5abf2fcd47a4"
      },
      "source": [
        "df.describe"
      ],
      "execution_count": 13,
      "outputs": [
        {
          "output_type": "execute_result",
          "data": {
            "text/plain": [
              "<bound method NDFrame.describe of       fixed acidity  volatile acidity  citric acid  ...  alcohol  quality   type\n",
              "0               7.4              0.70         0.00  ...      9.4    Legit    red\n",
              "1               7.8              0.88         0.00  ...      9.8    Legit    red\n",
              "2               7.8              0.76         0.04  ...      9.8    Legit    red\n",
              "3              11.2              0.28         0.56  ...      9.8    Legit    red\n",
              "4               7.4              0.70         0.00  ...      9.4    Legit    red\n",
              "...             ...               ...          ...  ...      ...      ...    ...\n",
              "6492            6.2              0.21         0.29  ...     11.2    Legit  white\n",
              "6493            6.6              0.32         0.36  ...      9.6    Legit  white\n",
              "6494            6.5              0.24         0.19  ...      9.4    Legit  white\n",
              "6495            5.5              0.29         0.30  ...     12.8    Legit  white\n",
              "6496            6.0              0.21         0.38  ...     11.8    Legit  white\n",
              "\n",
              "[6497 rows x 13 columns]>"
            ]
          },
          "metadata": {},
          "execution_count": 13
        }
      ]
    },
    {
      "cell_type": "markdown",
      "metadata": {
        "id": "UNmZdgMujvPm"
      },
      "source": [
        "#unique variables in the target column we are trying to predict (quality)"
      ]
    },
    {
      "cell_type": "code",
      "metadata": {
        "colab": {
          "base_uri": "https://localhost:8080/"
        },
        "id": "ubJhCSpKjw89",
        "outputId": "b864dc53-6f9c-40aa-b03f-3ae2fff7e2d2"
      },
      "source": [
        "df['quality'].unique()"
      ],
      "execution_count": 14,
      "outputs": [
        {
          "output_type": "execute_result",
          "data": {
            "text/plain": [
              "array(['Legit', 'Fraud'], dtype=object)"
            ]
          },
          "metadata": {},
          "execution_count": 14
        }
      ]
    },
    {
      "cell_type": "code",
      "metadata": {
        "colab": {
          "base_uri": "https://localhost:8080/"
        },
        "id": "8GsjKikUkHdW",
        "outputId": "a3e42d2a-7ab2-4e29-85f7-4df7e5b702e9"
      },
      "source": [
        "df['pH'].unique()"
      ],
      "execution_count": 17,
      "outputs": [
        {
          "output_type": "execute_result",
          "data": {
            "text/plain": [
              "array([3.51, 3.2 , 3.26, 3.16, 3.3 , 3.39, 3.36, 3.35, 3.28, 3.58, 3.17,\n",
              "       3.11, 3.38, 3.04, 3.52, 3.43, 3.34, 3.47, 3.46, 3.45, 3.4 , 3.42,\n",
              "       3.23, 3.5 , 3.33, 3.21, 3.48, 3.9 , 3.25, 3.32, 3.15, 3.41, 3.44,\n",
              "       3.31, 3.54, 3.13, 2.93, 3.14, 3.75, 3.85, 3.29, 3.08, 3.37, 3.19,\n",
              "       3.07, 3.49, 3.53, 3.24, 3.63, 3.22, 3.68, 2.74, 3.59, 3.  , 3.12,\n",
              "       3.57, 3.61, 3.06, 3.6 , 3.69, 3.1 , 3.05, 3.67, 3.27, 3.18, 3.02,\n",
              "       3.55, 2.99, 3.01, 3.56, 3.03, 3.62, 2.88, 2.95, 2.98, 3.09, 2.86,\n",
              "       3.74, 2.92, 3.72, 2.87, 2.89, 2.94, 3.66, 3.71, 3.78, 3.7 , 4.01,\n",
              "       2.9 , 2.96, 2.97, 3.64, 2.85, 3.82, 3.81, 3.65, 3.77, 2.91, 2.8 ,\n",
              "       2.72, 2.79, 3.8 , 2.77, 3.79, 2.84, 3.76, 2.83, 2.82])"
            ]
          },
          "metadata": {},
          "execution_count": 17
        }
      ]
    },
    {
      "cell_type": "markdown",
      "metadata": {
        "id": "gM6CvF1jkXwO"
      },
      "source": [
        "# countplot that displays the count per category of Legit vs Fraud (Is the label/target balanced or unbalanced?)"
      ]
    },
    {
      "cell_type": "code",
      "metadata": {
        "colab": {
          "base_uri": "https://localhost:8080/"
        },
        "id": "EbNhSiNYklQG",
        "outputId": "673244e4-b1ee-4fa2-f8a3-546c89d93ade"
      },
      "source": [
        "help(sns.countplot)"
      ],
      "execution_count": 23,
      "outputs": [
        {
          "output_type": "stream",
          "text": [
            "Help on function countplot in module seaborn.categorical:\n",
            "\n",
            "countplot(*, x=None, y=None, hue=None, data=None, order=None, hue_order=None, orient=None, color=None, palette=None, saturation=0.75, dodge=True, ax=None, **kwargs)\n",
            "    Show the counts of observations in each categorical bin using bars.\n",
            "    \n",
            "    A count plot can be thought of as a histogram across a categorical, instead\n",
            "    of quantitative, variable. The basic API and options are identical to those\n",
            "    for :func:`barplot`, so you can compare counts across nested variables.\n",
            "    \n",
            "    \n",
            "    Input data can be passed in a variety of formats, including:\n",
            "    \n",
            "    - Vectors of data represented as lists, numpy arrays, or pandas Series\n",
            "      objects passed directly to the ``x``, ``y``, and/or ``hue`` parameters.\n",
            "    - A \"long-form\" DataFrame, in which case the ``x``, ``y``, and ``hue``\n",
            "      variables will determine how the data are plotted.\n",
            "    - A \"wide-form\" DataFrame, such that each numeric column will be plotted.\n",
            "    - An array or list of vectors.\n",
            "    \n",
            "    In most cases, it is possible to use numpy or Python objects, but pandas\n",
            "    objects are preferable because the associated names will be used to\n",
            "    annotate the axes. Additionally, you can use Categorical types for the\n",
            "    grouping variables to control the order of plot elements.    \n",
            "    \n",
            "    This function always treats one of the variables as categorical and\n",
            "    draws data at ordinal positions (0, 1, ... n) on the relevant axis, even\n",
            "    when the data has a numeric or date type.\n",
            "    \n",
            "    See the :ref:`tutorial <categorical_tutorial>` for more information.    \n",
            "    \n",
            "    Parameters\n",
            "    ----------\n",
            "    x, y, hue : names of variables in ``data`` or vector data, optional\n",
            "        Inputs for plotting long-form data. See examples for interpretation.        \n",
            "    data : DataFrame, array, or list of arrays, optional\n",
            "        Dataset for plotting. If ``x`` and ``y`` are absent, this is\n",
            "        interpreted as wide-form. Otherwise it is expected to be long-form.    \n",
            "    order, hue_order : lists of strings, optional\n",
            "        Order to plot the categorical levels in, otherwise the levels are\n",
            "        inferred from the data objects.        \n",
            "    orient : \"v\" | \"h\", optional\n",
            "        Orientation of the plot (vertical or horizontal). This is usually\n",
            "        inferred based on the type of the input variables, but it can be used\n",
            "        to resolve ambiguitiy when both `x` and `y` are numeric or when\n",
            "        plotting wide-form data.    \n",
            "    color : matplotlib color, optional\n",
            "        Color for all of the elements, or seed for a gradient palette.    \n",
            "    palette : palette name, list, or dict\n",
            "        Colors to use for the different levels of the ``hue`` variable. Should\n",
            "        be something that can be interpreted by :func:`color_palette`, or a\n",
            "        dictionary mapping hue levels to matplotlib colors.    \n",
            "    saturation : float, optional\n",
            "        Proportion of the original saturation to draw colors at. Large patches\n",
            "        often look better with slightly desaturated colors, but set this to\n",
            "        ``1`` if you want the plot colors to perfectly match the input color\n",
            "        spec.    \n",
            "    dodge : bool, optional\n",
            "        When hue nesting is used, whether elements should be shifted along the\n",
            "        categorical axis.    \n",
            "    ax : matplotlib Axes, optional\n",
            "        Axes object to draw the plot onto, otherwise uses the current Axes.    \n",
            "    kwargs : key, value mappings\n",
            "        Other keyword arguments are passed through to\n",
            "        :meth:`matplotlib.axes.Axes.bar`.\n",
            "    \n",
            "    Returns\n",
            "    -------\n",
            "    ax : matplotlib Axes\n",
            "        Returns the Axes object with the plot drawn onto it.    \n",
            "    \n",
            "    See Also\n",
            "    --------\n",
            "    barplot : Show point estimates and confidence intervals using bars.    \n",
            "    catplot : Combine a categorical plot with a :class:`FacetGrid`.    \n",
            "    \n",
            "    Examples\n",
            "    --------\n",
            "    \n",
            "    Show value counts for a single categorical variable:\n",
            "    \n",
            "    .. plot::\n",
            "        :context: close-figs\n",
            "    \n",
            "        >>> import seaborn as sns\n",
            "        >>> sns.set_theme(style=\"darkgrid\")\n",
            "        >>> titanic = sns.load_dataset(\"titanic\")\n",
            "        >>> ax = sns.countplot(x=\"class\", data=titanic)\n",
            "    \n",
            "    Show value counts for two categorical variables:\n",
            "    \n",
            "    .. plot::\n",
            "        :context: close-figs\n",
            "    \n",
            "        >>> ax = sns.countplot(x=\"class\", hue=\"who\", data=titanic)\n",
            "    \n",
            "    Plot the bars horizontally:\n",
            "    \n",
            "    .. plot::\n",
            "        :context: close-figs\n",
            "    \n",
            "        >>> ax = sns.countplot(y=\"class\", hue=\"who\", data=titanic)\n",
            "    \n",
            "    Use a different color palette:\n",
            "    \n",
            "    .. plot::\n",
            "        :context: close-figs\n",
            "    \n",
            "        >>> ax = sns.countplot(x=\"who\", data=titanic, palette=\"Set3\")\n",
            "    \n",
            "    Use :meth:`matplotlib.axes.Axes.bar` parameters to control the style.\n",
            "    \n",
            "    .. plot::\n",
            "        :context: close-figs\n",
            "    \n",
            "        >>> ax = sns.countplot(x=\"who\", data=titanic,\n",
            "        ...                    facecolor=(0, 0, 0, 0),\n",
            "        ...                    linewidth=5,\n",
            "        ...                    edgecolor=sns.color_palette(\"dark\", 3))\n",
            "    \n",
            "    Use :func:`catplot` to combine a :func:`countplot` and a\n",
            "    :class:`FacetGrid`. This allows grouping within additional categorical\n",
            "    variables. Using :func:`catplot` is safer than using :class:`FacetGrid`\n",
            "    directly, as it ensures synchronization of variable order across facets:\n",
            "    \n",
            "    .. plot::\n",
            "        :context: close-figs\n",
            "    \n",
            "        >>> g = sns.catplot(x=\"class\", hue=\"who\", col=\"survived\",\n",
            "        ...                 data=titanic, kind=\"count\",\n",
            "        ...                 height=4, aspect=.7);\n",
            "\n"
          ],
          "name": "stdout"
        }
      ]
    },
    {
      "cell_type": "code",
      "metadata": {
        "colab": {
          "base_uri": "https://localhost:8080/",
          "height": 296
        },
        "id": "-Il487wMmep1",
        "outputId": "f13c68d7-0bd6-4c15-be24-a3c517e3e5e5"
      },
      "source": [
        "sns.countplot(x='quality',data=df)"
      ],
      "execution_count": 24,
      "outputs": [
        {
          "output_type": "execute_result",
          "data": {
            "text/plain": [
              "<matplotlib.axes._subplots.AxesSubplot at 0x7fbfbe93d290>"
            ]
          },
          "metadata": {},
          "execution_count": 24
        },
        {
          "output_type": "display_data",
          "data": {
            "image/png": "[encoded data removed]",
            "text/plain": [
              "<Figure size 432x288 with 1 Axes>"
            ]
          },
          "metadata": {
            "needs_background": "light"
          }
        }
      ]
    },
    {
      "cell_type": "markdown",
      "metadata": {
        "id": "eJePnv5wmmZv"
      },
      "source": [
        "##difference between red and white wine when it comes to fraud.Create a countplot that has the wine type on the x axis with the hue separating columns by Fraud vs Legit."
      ]
    },
    {
      "cell_type": "code",
      "metadata": {
        "colab": {
          "base_uri": "https://localhost:8080/",
          "height": 296
        },
        "id": "Lth3SYLvmju8",
        "outputId": "61e2bd18-d5ba-4dcb-d7d6-925715400d10"
      },
      "source": [
        "sns.countplot(x='type',data=df)"
      ],
      "execution_count": 25,
      "outputs": [
        {
          "output_type": "execute_result",
          "data": {
            "text/plain": [
              "<matplotlib.axes._subplots.AxesSubplot at 0x7fbfbe8a6bd0>"
            ]
          },
          "metadata": {},
          "execution_count": 25
        },
        {
          "output_type": "display_data",
          "data": {
            "image/png": "[encoded data removed]",
            "text/plain": [
              "<Figure size 432x288 with 1 Axes>"
            ]
          },
          "metadata": {
            "needs_background": "light"
          }
        }
      ]
    },
    {
      "cell_type": "code",
      "metadata": {
        "colab": {
          "base_uri": "https://localhost:8080/",
          "height": 296
        },
        "id": "7iLoYPDEmx5j",
        "outputId": "e771191a-d298-4729-c098-48bf970ba922"
      },
      "source": [
        "sns.countplot(x='type',data=df,hue='quality')"
      ],
      "execution_count": 26,
      "outputs": [
        {
          "output_type": "execute_result",
          "data": {
            "text/plain": [
              "<matplotlib.axes._subplots.AxesSubplot at 0x7fbfbe8a6c50>"
            ]
          },
          "metadata": {},
          "execution_count": 26
        },
        {
          "output_type": "display_data",
          "data": {
            "image/png": "[encoded data removed]",
            "text/plain": [
              "<Figure size 432x288 with 1 Axes>"
            ]
          },
          "metadata": {
            "needs_background": "light"
          }
        }
      ]
    },
    {
      "cell_type": "code",
      "metadata": {
        "id": "JYkFT8XAm0fE"
      },
      "source": [
        ""
      ],
      "execution_count": null,
      "outputs": []
    }
  ]
}