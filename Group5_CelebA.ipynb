{
  "nbformat": 4,
  "nbformat_minor": 0,
  "metadata": {
    "colab": {
      "name": "Group5_CelebA.ipynb",
      "provenance": [],
      "collapsed_sections": []
    },
    "kernelspec": {
      "name": "python3",
      "display_name": "Python 3"
    },
    "language_info": {
      "name": "python"
    }
  },
  "cells": [
    {
      "cell_type": "markdown",
      "metadata": {
        "id": "w_97-64kYA-T"
      },
      "source": [
        "**Group 5 - CelebA**\n",
        "\n",
        "**Name**: \n",
        "1.   Chintan Sanghavi\n",
        "2.   Himanshu Tyagi\n",
        "3.   Vasanthi Raja\n",
        "\n",
        "\n",
        "\n"
      ]
    },
    {
      "cell_type": "markdown",
      "metadata": {
        "id": "GASfOZmcYMcO"
      },
      "source": [
        "**Import Libraries/Dataset** \n",
        "\n",
        "*   **Download the dataset:** Data from Google Drive of CelebA was downloaded and extracted. After extraction it was uploaded to BITS Google Drive under \\CelebA Directory\n",
        "*   **Import the required libraries:** "
      ]
    },
    {
      "cell_type": "code",
      "metadata": {
        "colab": {
          "base_uri": "https://localhost:8080/"
        },
        "id": "3dwLeYv_X6qN",
        "outputId": "b6eb5673-1c09-41c2-c19c-7634bc1e3dd9"
      },
      "source": [
        "# Mounting the drive\n",
        "from google.colab import drive\n",
        "drive.mount('/content/gdrive', force_remount=True)"
      ],
      "execution_count": null,
      "outputs": [
        {
          "output_type": "stream",
          "text": [
            "Mounted at /content/gdrive\n"
          ],
          "name": "stdout"
        }
      ]
    },
    {
      "cell_type": "code",
      "metadata": {
        "colab": {
          "base_uri": "https://localhost:8080/"
        },
        "id": "Qy9J2CMnngSl",
        "outputId": "7791efb4-26ae-4bf2-8ca2-f308fae94095"
      },
      "source": [
        "#List the content (Access the google drive)\n",
        "!ls \"/content/gdrive/MyDrive/CelebA\"\n",
        "!ls \"/content/gdrive/MyDrive/CelebA/Anno\""
      ],
      "execution_count": null,
      "outputs": [
        {
          "output_type": "stream",
          "text": [
            "Anno  Eval  Img\n",
            "celeb_attributes.csv  list_landmarks_align_celeba.txt\n",
            "identity_CelebA.txt   list_landmarks_align_celeba_v1.csv\n",
            "list_attr_celeba.txt  list_landmarks_celeba.txt\n",
            "list_bbox_celeba.txt\n"
          ],
          "name": "stdout"
        }
      ]
    },
    {
      "cell_type": "markdown",
      "metadata": {
        "id": "JTVyuNxIpq5D"
      },
      "source": [
        "Import Libraries"
      ]
    },
    {
      "cell_type": "code",
      "metadata": {
        "id": "JHiaR9e7nhJ6"
      },
      "source": [
        "## Following libraries will be uploaded to process the data and build model. \n",
        "import tensorflow as tf\n",
        "from sklearn.model_selection import train_test_split\n",
        "from tensorflow.keras.models import Sequential\n",
        "from tensorflow.keras.layers import Dense, Dropout, Flatten, Conv2D, MaxPooling2D\n",
        "from tensorflow.keras.preprocessing import image\n",
        "\n",
        "import numpy as np\n",
        "import pandas as pd\n",
        "import PIL\n",
        "import matplotlib.pyplot as plt\n",
        "import matplotlib.patches as patches\n",
        "\n",
        "\n"
      ],
      "execution_count": null,
      "outputs": []
    },
    {
      "cell_type": "code",
      "metadata": {
        "id": "kwoCJFytpzZo"
      },
      "source": [
        "## Defining the path to the datasets\n",
        "key_points_data_path = \"/content/gdrive/MyDrive/CelebA/Anno/celeb_attributes.csv\"\n",
        "images_data_path = \"/content/gdrive/MyDrive/CelebA/Img\"\n",
        "\n",
        "# Since, the dataset is very huge. Hence, we will only select 250 images\n",
        "images_data_size = 2000\n",
        "\n",
        "# Original image dimensions\n",
        "x_org = 178    # original x value\n",
        "y_org = 218    # original y value\n",
        "\n",
        "#Let's scale the images to new dimensions\n",
        "\n",
        "# New image dimensions\n",
        "x_ = 100                            # new value of x\n",
        "image_size_ratio = x_org / y_org    # dimensions ratio\n",
        "y_ = int(image_size_ratio * x_)     # new value of y\n",
        "\n",
        "# Image Sizes\n",
        "original_image_size = (x_org, y_org)\n",
        "new_image_size = (x_,y_)\n",
        "\n",
        "# The image size that will be used in the training process\n",
        "image_size_training = new_image_size\n"
      ],
      "execution_count": null,
      "outputs": []
    },
    {
      "cell_type": "code",
      "metadata": {
        "id": "Uh6Eqvo6pz9U",
        "colab": {
          "base_uri": "https://localhost:8080/"
        },
        "outputId": "ee0c5adf-42f0-498c-d708-0f27b89db8db"
      },
      "source": [
        "# load the dataset (key points)\n",
        "df_org = pd.read_csv(key_points_data_path)\n",
        "df_org = df_org[:images_data_size]\n",
        "df_org.columns"
      ],
      "execution_count": null,
      "outputs": [
        {
          "output_type": "execute_result",
          "data": {
            "text/plain": [
              "Index(['image_id', '5_o_Clock_Shadow', 'Arched_Eyebrows', 'Attractive',\n",
              "       'Bags_Under_Eyes', 'Bald', 'Bangs', 'Big_Lips', 'Big_Nose',\n",
              "       'Black_Hair', 'Blond_Hair', 'Blurry', 'Brown_Hair', 'Bushy_Eyebrows',\n",
              "       'Chubby', 'Double_Chin', 'Eyeglasses', 'Goatee', 'Gray_Hair',\n",
              "       'Heavy_Makeup', 'High_Cheekbones', 'Male', 'Mouth_Slightly_Open',\n",
              "       'Mustache', 'Narrow_Eyes', 'No_Beard', 'Oval_Face', 'Pale_Skin',\n",
              "       'Pointy_Nose', 'Receding_Hairline', 'Rosy_Cheeks', 'Sideburns',\n",
              "       'Smiling', 'Straight_Hair', 'Wavy_Hair', 'Wearing_Earrings',\n",
              "       'Wearing_Hat', 'Wearing_Lipstick', 'Wearing_Necklace',\n",
              "       'Wearing_Necktie', 'Young'],\n",
              "      dtype='object')"
            ]
          },
          "metadata": {},
          "execution_count": 199
        }
      ]
    },
    {
      "cell_type": "code",
      "metadata": {
        "colab": {
          "base_uri": "https://localhost:8080/"
        },
        "id": "JsschUMjL_Xg",
        "outputId": "26675c23-3cbb-4f1c-cde7-16b3007a9c68"
      },
      "source": [
        "df_org.head"
      ],
      "execution_count": null,
      "outputs": [
        {
          "output_type": "execute_result",
          "data": {
            "text/plain": [
              "<bound method NDFrame.head of         image_id  5_o_Clock_Shadow  ...  Wearing_Necktie  Young\n",
              "0     000001.jpg                -1  ...               -1      1\n",
              "1     000002.jpg                -1  ...               -1      1\n",
              "2     000003.jpg                -1  ...               -1      1\n",
              "3     000004.jpg                -1  ...               -1      1\n",
              "4     000005.jpg                -1  ...               -1      1\n",
              "...          ...               ...  ...              ...    ...\n",
              "1995  001996.jpg                 1  ...               -1      1\n",
              "1996  001997.jpg                -1  ...               -1      1\n",
              "1997  001998.jpg                -1  ...               -1      1\n",
              "1998  001999.jpg                -1  ...                1     -1\n",
              "1999  002000.jpg                -1  ...               -1     -1\n",
              "\n",
              "[2000 rows x 41 columns]>"
            ]
          },
          "metadata": {},
          "execution_count": 200
        }
      ]
    },
    {
      "cell_type": "code",
      "metadata": {
        "colab": {
          "base_uri": "https://localhost:8080/"
        },
        "id": "fM5jYUPgFAHD",
        "outputId": "1f033d00-52b9-4dc2-dc9d-0c24b5cdf56c"
      },
      "source": [
        "df_org = df_org.replace(-1, 0)\n",
        "df_org.head"
      ],
      "execution_count": null,
      "outputs": [
        {
          "output_type": "execute_result",
          "data": {
            "text/plain": [
              "<bound method NDFrame.head of         image_id  5_o_Clock_Shadow  ...  Wearing_Necktie  Young\n",
              "0     000001.jpg                 0  ...                0      1\n",
              "1     000002.jpg                 0  ...                0      1\n",
              "2     000003.jpg                 0  ...                0      1\n",
              "3     000004.jpg                 0  ...                0      1\n",
              "4     000005.jpg                 0  ...                0      1\n",
              "...          ...               ...  ...              ...    ...\n",
              "1995  001996.jpg                 1  ...                0      1\n",
              "1996  001997.jpg                 0  ...                0      1\n",
              "1997  001998.jpg                 0  ...                0      1\n",
              "1998  001999.jpg                 0  ...                1      0\n",
              "1999  002000.jpg                 0  ...                0      0\n",
              "\n",
              "[2000 rows x 41 columns]>"
            ]
          },
          "metadata": {},
          "execution_count": 201
        }
      ]
    },
    {
      "cell_type": "code",
      "metadata": {
        "colab": {
          "base_uri": "https://localhost:8080/"
        },
        "id": "k8LKofAVnKoE",
        "outputId": "1a4f6461-2e3f-46de-e8cf-58f58f6ec751"
      },
      "source": [
        "# This will help us to find out how many labels are very common. We can omit these lables. \n",
        "\n",
        "sum = (df_org.drop(\"image_id\", axis=1).sum(axis=0))*100/255\n",
        "sumarray = sum.array\n",
        "sum"
      ],
      "execution_count": null,
      "outputs": [
        {
          "output_type": "execute_result",
          "data": {
            "text/plain": [
              "5_o_Clock_Shadow        92.941176\n",
              "Arched_Eyebrows        211.764706\n",
              "Attractive             403.529412\n",
              "Bags_Under_Eyes        165.490196\n",
              "Bald                    20.000000\n",
              "Bangs                  118.823529\n",
              "Big_Lips               192.156863\n",
              "Big_Nose               183.921569\n",
              "Black_Hair             189.803922\n",
              "Blond_Hair             115.686275\n",
              "Blurry                  42.352941\n",
              "Brown_Hair             158.039216\n",
              "Bushy_Eyebrows         116.862745\n",
              "Chubby                  42.352941\n",
              "Double_Chin             32.549020\n",
              "Eyeglasses              48.627451\n",
              "Goatee                  49.411765\n",
              "Gray_Hair               41.176471\n",
              "Heavy_Makeup           303.529412\n",
              "High_Cheekbones        345.098039\n",
              "Male                   331.764706\n",
              "Mouth_Slightly_Open    378.823529\n",
              "Mustache                28.235294\n",
              "Narrow_Eyes             91.372549\n",
              "No_Beard               654.901961\n",
              "Oval_Face              203.137255\n",
              "Pale_Skin               31.764706\n",
              "Pointy_Nose            218.823529\n",
              "Receding_Hairline       54.901961\n",
              "Rosy_Cheeks             55.294118\n",
              "Sideburns               46.666667\n",
              "Smiling                376.470588\n",
              "Straight_Hair          162.745098\n",
              "Wavy_Hair              240.784314\n",
              "Wearing_Earrings       158.039216\n",
              "Wearing_Hat             35.686275\n",
              "Wearing_Lipstick       363.529412\n",
              "Wearing_Necklace       102.745098\n",
              "Wearing_Necktie         63.529412\n",
              "Young                  605.098039\n",
              "dtype: float64"
            ]
          },
          "metadata": {},
          "execution_count": 202
        }
      ]
    },
    {
      "cell_type": "code",
      "metadata": {
        "id": "QkhQP5tunKc6"
      },
      "source": [
        "# Lets keep only following features\n",
        "#Attractive\n",
        "#Heavy_Makeup\n",
        "#Smiling\n",
        "#Straight_Hair\n",
        "#Blond_Hair\n",
        "#Bags_Under_Eyes\n",
        "#Male\n",
        "#Wearing_Lipstick\n",
        "#Big_Nose\n",
        "#Big_Lips"
      ],
      "execution_count": null,
      "outputs": []
    },
    {
      "cell_type": "markdown",
      "metadata": {
        "id": "dDw_7fsmucdq"
      },
      "source": [
        "**Create Array of images**"
      ]
    },
    {
      "cell_type": "code",
      "metadata": {
        "id": "j24sNG2Jt1k-",
        "colab": {
          "base_uri": "https://localhost:8080/"
        },
        "outputId": "2b706abe-b912-422e-f280-03a5417d8048"
      },
      "source": [
        "images_data = list()\n",
        "for idx in range(df_org.shape[0]):\n",
        "    # Retrieving the path based upon the index\n",
        "    path = \"{}/{}\".format(str(images_data_path),str(df_org.iloc[idx].image_id))\n",
        "    \n",
        "    # Reading images using PIL library\n",
        "    image = PIL.Image.open(path).resize(image_size_training)\n",
        "    image_array = np.asarray(image) / 255\n",
        "    \n",
        "    # Appending the images to a list\n",
        "    images_data.append(image_array)\n",
        "\n",
        "len(images_data)\n",
        "\n"
      ],
      "execution_count": null,
      "outputs": [
        {
          "output_type": "execute_result",
          "data": {
            "text/plain": [
              "2000"
            ]
          },
          "metadata": {},
          "execution_count": 204
        }
      ]
    },
    {
      "cell_type": "code",
      "metadata": {
        "colab": {
          "base_uri": "https://localhost:8080/"
        },
        "id": "2OeFXDsJNGaq",
        "outputId": "72558c5a-6ae8-49cd-9303-3719de9aaaab"
      },
      "source": [
        "# Converting images_data to an array from list\n",
        "images_data = np.array(images_data)\n",
        "images_data.shape"
      ],
      "execution_count": null,
      "outputs": [
        {
          "output_type": "execute_result",
          "data": {
            "text/plain": [
              "(2000, 81, 100, 3)"
            ]
          },
          "metadata": {},
          "execution_count": 205
        }
      ]
    },
    {
      "cell_type": "markdown",
      "metadata": {
        "id": "Dh5AED-TuSZ5"
      },
      "source": [
        "**Display a sample image**"
      ]
    },
    {
      "cell_type": "code",
      "metadata": {
        "id": "VxxGxsH7t9Cs",
        "colab": {
          "base_uri": "https://localhost:8080/",
          "height": 302
        },
        "outputId": "dc2de754-e473-4ac9-adea-679481c1e616"
      },
      "source": [
        "import random\n",
        "\n",
        "# Plotting a sample image\n",
        "randomImage = random.randint(0, images_data_size)\n",
        "print(randomImage)\n",
        "plt.imshow(images_data[randomImage])"
      ],
      "execution_count": null,
      "outputs": [
        {
          "output_type": "stream",
          "text": [
            "976\n"
          ],
          "name": "stdout"
        },
        {
          "output_type": "execute_result",
          "data": {
            "text/plain": [
              "<matplotlib.image.AxesImage at 0x7f01955ab3d0>"
            ]
          },
          "metadata": {},
          "execution_count": 206
        },
        {
          "output_type": "display_data",
          "data": {
            "image/png": "[encoded data removed]",
            "text/plain": [
              "<Figure size 432x288 with 1 Axes>"
            ]
          },
          "metadata": {
            "needs_background": "light"
          }
        }
      ]
    },
    {
      "cell_type": "code",
      "metadata": {
        "id": "u-okV9LiuENQ",
        "colab": {
          "base_uri": "https://localhost:8080/"
        },
        "outputId": "1e27c8d2-ecf8-48f0-d771-a623458e08f1"
      },
      "source": [
        "print(\"Images Data Arrays Shape:\", images_data.shape)\n",
        "print(\"Key Points Data Shape:\", df_org.shape)"
      ],
      "execution_count": null,
      "outputs": [
        {
          "output_type": "stream",
          "text": [
            "Images Data Arrays Shape: (2000, 81, 100, 3)\n",
            "Key Points Data Shape: (2000, 41)\n"
          ],
          "name": "stdout"
        }
      ]
    },
    {
      "cell_type": "code",
      "metadata": {
        "id": "YHH8m8T_uEIV",
        "colab": {
          "base_uri": "https://localhost:8080/"
        },
        "outputId": "f2c2516c-2a69-4cd8-9c1d-4a72a4d9695b"
      },
      "source": [
        "df_org.isnull().sum()"
      ],
      "execution_count": null,
      "outputs": [
        {
          "output_type": "execute_result",
          "data": {
            "text/plain": [
              "image_id               0\n",
              "5_o_Clock_Shadow       0\n",
              "Arched_Eyebrows        0\n",
              "Attractive             0\n",
              "Bags_Under_Eyes        0\n",
              "Bald                   0\n",
              "Bangs                  0\n",
              "Big_Lips               0\n",
              "Big_Nose               0\n",
              "Black_Hair             0\n",
              "Blond_Hair             0\n",
              "Blurry                 0\n",
              "Brown_Hair             0\n",
              "Bushy_Eyebrows         0\n",
              "Chubby                 0\n",
              "Double_Chin            0\n",
              "Eyeglasses             0\n",
              "Goatee                 0\n",
              "Gray_Hair              0\n",
              "Heavy_Makeup           0\n",
              "High_Cheekbones        0\n",
              "Male                   0\n",
              "Mouth_Slightly_Open    0\n",
              "Mustache               0\n",
              "Narrow_Eyes            0\n",
              "No_Beard               0\n",
              "Oval_Face              0\n",
              "Pale_Skin              0\n",
              "Pointy_Nose            0\n",
              "Receding_Hairline      0\n",
              "Rosy_Cheeks            0\n",
              "Sideburns              0\n",
              "Smiling                0\n",
              "Straight_Hair          0\n",
              "Wavy_Hair              0\n",
              "Wearing_Earrings       0\n",
              "Wearing_Hat            0\n",
              "Wearing_Lipstick       0\n",
              "Wearing_Necklace       0\n",
              "Wearing_Necktie        0\n",
              "Young                  0\n",
              "dtype: int64"
            ]
          },
          "metadata": {},
          "execution_count": 208
        }
      ]
    },
    {
      "cell_type": "code",
      "metadata": {
        "id": "TT5jTl5TuED3",
        "colab": {
          "base_uri": "https://localhost:8080/",
          "height": 317
        },
        "outputId": "575c1226-603e-475d-e9a6-5a23385577c0"
      },
      "source": [
        "df_org.describe()"
      ],
      "execution_count": null,
      "outputs": [
        {
          "output_type": "execute_result",
          "data": {
            "text/html": [
              "<div>\n",
              "<style scoped>\n",
              "    .dataframe tbody tr th:only-of-type {\n",
              "        vertical-align: middle;\n",
              "    }\n",
              "\n",
              "    .dataframe tbody tr th {\n",
              "        vertical-align: top;\n",
              "    }\n",
              "\n",
              "    .dataframe thead th {\n",
              "        text-align: right;\n",
              "    }\n",
              "</style>\n",
              "<table border=\"1\" class=\"dataframe\">\n",
              "  <thead>\n",
              "    <tr style=\"text-align: right;\">\n",
              "      <th></th>\n",
              "      <th>5_o_Clock_Shadow</th>\n",
              "      <th>Arched_Eyebrows</th>\n",
              "      <th>Attractive</th>\n",
              "      <th>Bags_Under_Eyes</th>\n",
              "      <th>Bald</th>\n",
              "      <th>Bangs</th>\n",
              "      <th>Big_Lips</th>\n",
              "      <th>Big_Nose</th>\n",
              "      <th>Black_Hair</th>\n",
              "      <th>Blond_Hair</th>\n",
              "      <th>Blurry</th>\n",
              "      <th>Brown_Hair</th>\n",
              "      <th>Bushy_Eyebrows</th>\n",
              "      <th>Chubby</th>\n",
              "      <th>Double_Chin</th>\n",
              "      <th>Eyeglasses</th>\n",
              "      <th>Goatee</th>\n",
              "      <th>Gray_Hair</th>\n",
              "      <th>Heavy_Makeup</th>\n",
              "      <th>High_Cheekbones</th>\n",
              "      <th>Male</th>\n",
              "      <th>Mouth_Slightly_Open</th>\n",
              "      <th>Mustache</th>\n",
              "      <th>Narrow_Eyes</th>\n",
              "      <th>No_Beard</th>\n",
              "      <th>Oval_Face</th>\n",
              "      <th>Pale_Skin</th>\n",
              "      <th>Pointy_Nose</th>\n",
              "      <th>Receding_Hairline</th>\n",
              "      <th>Rosy_Cheeks</th>\n",
              "      <th>Sideburns</th>\n",
              "      <th>Smiling</th>\n",
              "      <th>Straight_Hair</th>\n",
              "      <th>Wavy_Hair</th>\n",
              "      <th>Wearing_Earrings</th>\n",
              "      <th>Wearing_Hat</th>\n",
              "      <th>Wearing_Lipstick</th>\n",
              "      <th>Wearing_Necklace</th>\n",
              "      <th>Wearing_Necktie</th>\n",
              "      <th>Young</th>\n",
              "    </tr>\n",
              "  </thead>\n",
              "  <tbody>\n",
              "    <tr>\n",
              "      <th>count</th>\n",
              "      <td>2000.00000</td>\n",
              "      <td>2000.00000</td>\n",
              "      <td>2000.000000</td>\n",
              "      <td>2000.00000</td>\n",
              "      <td>2000.000000</td>\n",
              "      <td>2000.000000</td>\n",
              "      <td>2000.000000</td>\n",
              "      <td>2000.000000</td>\n",
              "      <td>2000.000000</td>\n",
              "      <td>2000.000000</td>\n",
              "      <td>2000.000000</td>\n",
              "      <td>2000.000000</td>\n",
              "      <td>2000.000000</td>\n",
              "      <td>2000.000000</td>\n",
              "      <td>2000.000000</td>\n",
              "      <td>2000.000000</td>\n",
              "      <td>2000.000000</td>\n",
              "      <td>2000.000000</td>\n",
              "      <td>2000.000000</td>\n",
              "      <td>2000.000000</td>\n",
              "      <td>2000.000000</td>\n",
              "      <td>2000.000000</td>\n",
              "      <td>2000.000000</td>\n",
              "      <td>2000.000000</td>\n",
              "      <td>2000.000000</td>\n",
              "      <td>2000.000000</td>\n",
              "      <td>2000.000000</td>\n",
              "      <td>2000.00000</td>\n",
              "      <td>2000.000000</td>\n",
              "      <td>2000.000000</td>\n",
              "      <td>2000.000000</td>\n",
              "      <td>2000.000000</td>\n",
              "      <td>2000.000000</td>\n",
              "      <td>2000.000000</td>\n",
              "      <td>2000.000000</td>\n",
              "      <td>2000.00000</td>\n",
              "      <td>2000.000000</td>\n",
              "      <td>2000.000000</td>\n",
              "      <td>2000.000000</td>\n",
              "      <td>2000.000000</td>\n",
              "    </tr>\n",
              "    <tr>\n",
              "      <th>mean</th>\n",
              "      <td>0.11850</td>\n",
              "      <td>0.27000</td>\n",
              "      <td>0.514500</td>\n",
              "      <td>0.21100</td>\n",
              "      <td>0.025500</td>\n",
              "      <td>0.151500</td>\n",
              "      <td>0.245000</td>\n",
              "      <td>0.234500</td>\n",
              "      <td>0.242000</td>\n",
              "      <td>0.147500</td>\n",
              "      <td>0.054000</td>\n",
              "      <td>0.201500</td>\n",
              "      <td>0.149000</td>\n",
              "      <td>0.054000</td>\n",
              "      <td>0.041500</td>\n",
              "      <td>0.062000</td>\n",
              "      <td>0.063000</td>\n",
              "      <td>0.052500</td>\n",
              "      <td>0.387000</td>\n",
              "      <td>0.440000</td>\n",
              "      <td>0.423000</td>\n",
              "      <td>0.483000</td>\n",
              "      <td>0.036000</td>\n",
              "      <td>0.116500</td>\n",
              "      <td>0.835000</td>\n",
              "      <td>0.259000</td>\n",
              "      <td>0.040500</td>\n",
              "      <td>0.27900</td>\n",
              "      <td>0.070000</td>\n",
              "      <td>0.070500</td>\n",
              "      <td>0.059500</td>\n",
              "      <td>0.480000</td>\n",
              "      <td>0.207500</td>\n",
              "      <td>0.307000</td>\n",
              "      <td>0.201500</td>\n",
              "      <td>0.04550</td>\n",
              "      <td>0.463500</td>\n",
              "      <td>0.131000</td>\n",
              "      <td>0.081000</td>\n",
              "      <td>0.771500</td>\n",
              "    </tr>\n",
              "    <tr>\n",
              "      <th>std</th>\n",
              "      <td>0.32328</td>\n",
              "      <td>0.44407</td>\n",
              "      <td>0.499915</td>\n",
              "      <td>0.40812</td>\n",
              "      <td>0.157677</td>\n",
              "      <td>0.358625</td>\n",
              "      <td>0.430195</td>\n",
              "      <td>0.423792</td>\n",
              "      <td>0.428401</td>\n",
              "      <td>0.354692</td>\n",
              "      <td>0.226074</td>\n",
              "      <td>0.401221</td>\n",
              "      <td>0.356178</td>\n",
              "      <td>0.226074</td>\n",
              "      <td>0.199493</td>\n",
              "      <td>0.241216</td>\n",
              "      <td>0.243024</td>\n",
              "      <td>0.223089</td>\n",
              "      <td>0.487185</td>\n",
              "      <td>0.496511</td>\n",
              "      <td>0.494159</td>\n",
              "      <td>0.499836</td>\n",
              "      <td>0.186337</td>\n",
              "      <td>0.320904</td>\n",
              "      <td>0.371273</td>\n",
              "      <td>0.438195</td>\n",
              "      <td>0.197178</td>\n",
              "      <td>0.44862</td>\n",
              "      <td>0.255211</td>\n",
              "      <td>0.256052</td>\n",
              "      <td>0.236617</td>\n",
              "      <td>0.499725</td>\n",
              "      <td>0.405618</td>\n",
              "      <td>0.461365</td>\n",
              "      <td>0.401221</td>\n",
              "      <td>0.20845</td>\n",
              "      <td>0.498791</td>\n",
              "      <td>0.337485</td>\n",
              "      <td>0.272903</td>\n",
              "      <td>0.419971</td>\n",
              "    </tr>\n",
              "    <tr>\n",
              "      <th>min</th>\n",
              "      <td>0.00000</td>\n",
              "      <td>0.00000</td>\n",
              "      <td>0.000000</td>\n",
              "      <td>0.00000</td>\n",
              "      <td>0.000000</td>\n",
              "      <td>0.000000</td>\n",
              "      <td>0.000000</td>\n",
              "      <td>0.000000</td>\n",
              "      <td>0.000000</td>\n",
              "      <td>0.000000</td>\n",
              "      <td>0.000000</td>\n",
              "      <td>0.000000</td>\n",
              "      <td>0.000000</td>\n",
              "      <td>0.000000</td>\n",
              "      <td>0.000000</td>\n",
              "      <td>0.000000</td>\n",
              "      <td>0.000000</td>\n",
              "      <td>0.000000</td>\n",
              "      <td>0.000000</td>\n",
              "      <td>0.000000</td>\n",
              "      <td>0.000000</td>\n",
              "      <td>0.000000</td>\n",
              "      <td>0.000000</td>\n",
              "      <td>0.000000</td>\n",
              "      <td>0.000000</td>\n",
              "      <td>0.000000</td>\n",
              "      <td>0.000000</td>\n",
              "      <td>0.00000</td>\n",
              "      <td>0.000000</td>\n",
              "      <td>0.000000</td>\n",
              "      <td>0.000000</td>\n",
              "      <td>0.000000</td>\n",
              "      <td>0.000000</td>\n",
              "      <td>0.000000</td>\n",
              "      <td>0.000000</td>\n",
              "      <td>0.00000</td>\n",
              "      <td>0.000000</td>\n",
              "      <td>0.000000</td>\n",
              "      <td>0.000000</td>\n",
              "      <td>0.000000</td>\n",
              "    </tr>\n",
              "    <tr>\n",
              "      <th>25%</th>\n",
              "      <td>0.00000</td>\n",
              "      <td>0.00000</td>\n",
              "      <td>0.000000</td>\n",
              "      <td>0.00000</td>\n",
              "      <td>0.000000</td>\n",
              "      <td>0.000000</td>\n",
              "      <td>0.000000</td>\n",
              "      <td>0.000000</td>\n",
              "      <td>0.000000</td>\n",
              "      <td>0.000000</td>\n",
              "      <td>0.000000</td>\n",
              "      <td>0.000000</td>\n",
              "      <td>0.000000</td>\n",
              "      <td>0.000000</td>\n",
              "      <td>0.000000</td>\n",
              "      <td>0.000000</td>\n",
              "      <td>0.000000</td>\n",
              "      <td>0.000000</td>\n",
              "      <td>0.000000</td>\n",
              "      <td>0.000000</td>\n",
              "      <td>0.000000</td>\n",
              "      <td>0.000000</td>\n",
              "      <td>0.000000</td>\n",
              "      <td>0.000000</td>\n",
              "      <td>1.000000</td>\n",
              "      <td>0.000000</td>\n",
              "      <td>0.000000</td>\n",
              "      <td>0.00000</td>\n",
              "      <td>0.000000</td>\n",
              "      <td>0.000000</td>\n",
              "      <td>0.000000</td>\n",
              "      <td>0.000000</td>\n",
              "      <td>0.000000</td>\n",
              "      <td>0.000000</td>\n",
              "      <td>0.000000</td>\n",
              "      <td>0.00000</td>\n",
              "      <td>0.000000</td>\n",
              "      <td>0.000000</td>\n",
              "      <td>0.000000</td>\n",
              "      <td>1.000000</td>\n",
              "    </tr>\n",
              "    <tr>\n",
              "      <th>50%</th>\n",
              "      <td>0.00000</td>\n",
              "      <td>0.00000</td>\n",
              "      <td>1.000000</td>\n",
              "      <td>0.00000</td>\n",
              "      <td>0.000000</td>\n",
              "      <td>0.000000</td>\n",
              "      <td>0.000000</td>\n",
              "      <td>0.000000</td>\n",
              "      <td>0.000000</td>\n",
              "      <td>0.000000</td>\n",
              "      <td>0.000000</td>\n",
              "      <td>0.000000</td>\n",
              "      <td>0.000000</td>\n",
              "      <td>0.000000</td>\n",
              "      <td>0.000000</td>\n",
              "      <td>0.000000</td>\n",
              "      <td>0.000000</td>\n",
              "      <td>0.000000</td>\n",
              "      <td>0.000000</td>\n",
              "      <td>0.000000</td>\n",
              "      <td>0.000000</td>\n",
              "      <td>0.000000</td>\n",
              "      <td>0.000000</td>\n",
              "      <td>0.000000</td>\n",
              "      <td>1.000000</td>\n",
              "      <td>0.000000</td>\n",
              "      <td>0.000000</td>\n",
              "      <td>0.00000</td>\n",
              "      <td>0.000000</td>\n",
              "      <td>0.000000</td>\n",
              "      <td>0.000000</td>\n",
              "      <td>0.000000</td>\n",
              "      <td>0.000000</td>\n",
              "      <td>0.000000</td>\n",
              "      <td>0.000000</td>\n",
              "      <td>0.00000</td>\n",
              "      <td>0.000000</td>\n",
              "      <td>0.000000</td>\n",
              "      <td>0.000000</td>\n",
              "      <td>1.000000</td>\n",
              "    </tr>\n",
              "    <tr>\n",
              "      <th>75%</th>\n",
              "      <td>0.00000</td>\n",
              "      <td>1.00000</td>\n",
              "      <td>1.000000</td>\n",
              "      <td>0.00000</td>\n",
              "      <td>0.000000</td>\n",
              "      <td>0.000000</td>\n",
              "      <td>0.000000</td>\n",
              "      <td>0.000000</td>\n",
              "      <td>0.000000</td>\n",
              "      <td>0.000000</td>\n",
              "      <td>0.000000</td>\n",
              "      <td>0.000000</td>\n",
              "      <td>0.000000</td>\n",
              "      <td>0.000000</td>\n",
              "      <td>0.000000</td>\n",
              "      <td>0.000000</td>\n",
              "      <td>0.000000</td>\n",
              "      <td>0.000000</td>\n",
              "      <td>1.000000</td>\n",
              "      <td>1.000000</td>\n",
              "      <td>1.000000</td>\n",
              "      <td>1.000000</td>\n",
              "      <td>0.000000</td>\n",
              "      <td>0.000000</td>\n",
              "      <td>1.000000</td>\n",
              "      <td>1.000000</td>\n",
              "      <td>0.000000</td>\n",
              "      <td>1.00000</td>\n",
              "      <td>0.000000</td>\n",
              "      <td>0.000000</td>\n",
              "      <td>0.000000</td>\n",
              "      <td>1.000000</td>\n",
              "      <td>0.000000</td>\n",
              "      <td>1.000000</td>\n",
              "      <td>0.000000</td>\n",
              "      <td>0.00000</td>\n",
              "      <td>1.000000</td>\n",
              "      <td>0.000000</td>\n",
              "      <td>0.000000</td>\n",
              "      <td>1.000000</td>\n",
              "    </tr>\n",
              "    <tr>\n",
              "      <th>max</th>\n",
              "      <td>1.00000</td>\n",
              "      <td>1.00000</td>\n",
              "      <td>1.000000</td>\n",
              "      <td>1.00000</td>\n",
              "      <td>1.000000</td>\n",
              "      <td>1.000000</td>\n",
              "      <td>1.000000</td>\n",
              "      <td>1.000000</td>\n",
              "      <td>1.000000</td>\n",
              "      <td>1.000000</td>\n",
              "      <td>1.000000</td>\n",
              "      <td>1.000000</td>\n",
              "      <td>1.000000</td>\n",
              "      <td>1.000000</td>\n",
              "      <td>1.000000</td>\n",
              "      <td>1.000000</td>\n",
              "      <td>1.000000</td>\n",
              "      <td>1.000000</td>\n",
              "      <td>1.000000</td>\n",
              "      <td>1.000000</td>\n",
              "      <td>1.000000</td>\n",
              "      <td>1.000000</td>\n",
              "      <td>1.000000</td>\n",
              "      <td>1.000000</td>\n",
              "      <td>1.000000</td>\n",
              "      <td>1.000000</td>\n",
              "      <td>1.000000</td>\n",
              "      <td>1.00000</td>\n",
              "      <td>1.000000</td>\n",
              "      <td>1.000000</td>\n",
              "      <td>1.000000</td>\n",
              "      <td>1.000000</td>\n",
              "      <td>1.000000</td>\n",
              "      <td>1.000000</td>\n",
              "      <td>1.000000</td>\n",
              "      <td>1.00000</td>\n",
              "      <td>1.000000</td>\n",
              "      <td>1.000000</td>\n",
              "      <td>1.000000</td>\n",
              "      <td>1.000000</td>\n",
              "    </tr>\n",
              "  </tbody>\n",
              "</table>\n",
              "</div>"
            ],
            "text/plain": [
              "       5_o_Clock_Shadow  Arched_Eyebrows  ...  Wearing_Necktie        Young\n",
              "count        2000.00000       2000.00000  ...      2000.000000  2000.000000\n",
              "mean            0.11850          0.27000  ...         0.081000     0.771500\n",
              "std             0.32328          0.44407  ...         0.272903     0.419971\n",
              "min             0.00000          0.00000  ...         0.000000     0.000000\n",
              "25%             0.00000          0.00000  ...         0.000000     1.000000\n",
              "50%             0.00000          0.00000  ...         0.000000     1.000000\n",
              "75%             0.00000          1.00000  ...         0.000000     1.000000\n",
              "max             1.00000          1.00000  ...         1.000000     1.000000\n",
              "\n",
              "[8 rows x 40 columns]"
            ]
          },
          "metadata": {},
          "execution_count": 209
        }
      ]
    },
    {
      "cell_type": "markdown",
      "metadata": {
        "id": "8r4aiLau4zpM"
      },
      "source": [
        "**Reading Images Function**"
      ]
    },
    {
      "cell_type": "code",
      "metadata": {
        "id": "VcAvGi2nuD-E"
      },
      "source": [
        "# function to read images based on index (image number passed)\n",
        "def image_array(index, size=image_size_training, path=images_data_path):\n",
        "    \"\"\"\n",
        "    This functions is for converting images to arrays to deal with it in the model.\n",
        "    \n",
        "    Input:  index of the image that we want to convert to array\n",
        "            size of the image that we want for the array of the image\n",
        "            path of the images data to get the image\n",
        "            \n",
        "    Output: the image array as numpy array\n",
        "    \"\"\"\n",
        "    # to get the path based on index\n",
        "    path = \"{}/{}\".format(str(path),str(df_org.iloc[index].image_id))\n",
        "    \n",
        "    # to read the image\n",
        "    image = PIL.Image.open(path).resize(size)\n",
        "    image_array = np.asarray(image)\n",
        "    \n",
        "    return image_array"
      ],
      "execution_count": null,
      "outputs": []
    },
    {
      "cell_type": "code",
      "metadata": {
        "id": "bYhviawluDyw"
      },
      "source": [
        "# function to get a list of all key points of the face\n",
        "def image_key_points_list(index, df = df_org):\n",
        "    \"\"\"\n",
        "    This function for getting the key points on the face as list to deal with it in plotting sections\n",
        "    \"\"\"\n",
        "    # box dictionary\n",
        "    points_list = [df.iloc[index].Attractive,\n",
        "                   df.iloc[index].Heavy_Makeup,\n",
        "                   df.iloc[index].Smiling,\n",
        "                   df.iloc[index].Straight_Hair,\n",
        "                   df.iloc[index].Blond_Hair,\n",
        "                   df.iloc[index].Bags_Under_Eyes,\n",
        "                   df.iloc[index].Male,\n",
        "                   df.iloc[index].Wearing_Lipstick,\n",
        "                   df.iloc[index].Big_Nose,\n",
        "                   df.iloc[index].Big_Lips]\n",
        "    \n",
        "    return points_list"
      ],
      "execution_count": null,
      "outputs": []
    },
    {
      "cell_type": "code",
      "metadata": {
        "id": "ulLnh3anS_cJ",
        "colab": {
          "base_uri": "https://localhost:8080/"
        },
        "outputId": "48163e6f-4d63-4b6e-d891-3774f0fc6ab6"
      },
      "source": [
        "# function to get a list of all key attributes of the face\n",
        "def image_key_attributes_name():\n",
        "    \"\"\"\n",
        "    This function for getting the key attributes on the face as list\n",
        "    \"\"\"\n",
        "    # Attributes dictionary\n",
        "    attr_list = ['Attractive',\n",
        "                   'Heavy_Makeup',\n",
        "                   'Smiling',\n",
        "                   'Straight_Hair',\n",
        "                   'Blond_Hair',\n",
        "                   'Bags_Under_Eyes',\n",
        "                   'Male',\n",
        "                   'Wearing_Lipstick',\n",
        "                   'Big_Nose',\n",
        "                   'Big_Lips']\n",
        "    \n",
        "    return attr_list\n",
        "\n",
        "no_attributes = len(image_key_attributes_name())\n",
        "print(no_attributes)"
      ],
      "execution_count": null,
      "outputs": [
        {
          "output_type": "stream",
          "text": [
            "10\n"
          ],
          "name": "stdout"
        }
      ]
    },
    {
      "cell_type": "code",
      "metadata": {
        "colab": {
          "base_uri": "https://localhost:8080/",
          "height": 419
        },
        "id": "2ruIcJmI0Ve5",
        "outputId": "8fad22bc-7b7a-48b5-fbbb-dc92e85a6e4c"
      },
      "source": [
        "df_new = df_org[[\"Attractive\", \"Heavy_Makeup\", \"Smiling\", \"Straight_Hair\", \"Blond_Hair\", \"Bags_Under_Eyes\", \"Male\", \"Wearing_Lipstick\", \"Big_Nose\", \"Big_Lips\"]]\n",
        "df_new\n"
      ],
      "execution_count": null,
      "outputs": [
        {
          "output_type": "execute_result",
          "data": {
            "text/html": [
              "<div>\n",
              "<style scoped>\n",
              "    .dataframe tbody tr th:only-of-type {\n",
              "        vertical-align: middle;\n",
              "    }\n",
              "\n",
              "    .dataframe tbody tr th {\n",
              "        vertical-align: top;\n",
              "    }\n",
              "\n",
              "    .dataframe thead th {\n",
              "        text-align: right;\n",
              "    }\n",
              "</style>\n",
              "<table border=\"1\" class=\"dataframe\">\n",
              "  <thead>\n",
              "    <tr style=\"text-align: right;\">\n",
              "      <th></th>\n",
              "      <th>Attractive</th>\n",
              "      <th>Heavy_Makeup</th>\n",
              "      <th>Smiling</th>\n",
              "      <th>Straight_Hair</th>\n",
              "      <th>Blond_Hair</th>\n",
              "      <th>Bags_Under_Eyes</th>\n",
              "      <th>Male</th>\n",
              "      <th>Wearing_Lipstick</th>\n",
              "      <th>Big_Nose</th>\n",
              "      <th>Big_Lips</th>\n",
              "    </tr>\n",
              "  </thead>\n",
              "  <tbody>\n",
              "    <tr>\n",
              "      <th>0</th>\n",
              "      <td>1</td>\n",
              "      <td>1</td>\n",
              "      <td>1</td>\n",
              "      <td>1</td>\n",
              "      <td>0</td>\n",
              "      <td>0</td>\n",
              "      <td>0</td>\n",
              "      <td>1</td>\n",
              "      <td>0</td>\n",
              "      <td>0</td>\n",
              "    </tr>\n",
              "    <tr>\n",
              "      <th>1</th>\n",
              "      <td>0</td>\n",
              "      <td>0</td>\n",
              "      <td>1</td>\n",
              "      <td>0</td>\n",
              "      <td>0</td>\n",
              "      <td>1</td>\n",
              "      <td>0</td>\n",
              "      <td>0</td>\n",
              "      <td>1</td>\n",
              "      <td>0</td>\n",
              "    </tr>\n",
              "    <tr>\n",
              "      <th>2</th>\n",
              "      <td>0</td>\n",
              "      <td>0</td>\n",
              "      <td>0</td>\n",
              "      <td>0</td>\n",
              "      <td>0</td>\n",
              "      <td>0</td>\n",
              "      <td>1</td>\n",
              "      <td>0</td>\n",
              "      <td>0</td>\n",
              "      <td>1</td>\n",
              "    </tr>\n",
              "    <tr>\n",
              "      <th>3</th>\n",
              "      <td>1</td>\n",
              "      <td>0</td>\n",
              "      <td>0</td>\n",
              "      <td>1</td>\n",
              "      <td>0</td>\n",
              "      <td>0</td>\n",
              "      <td>0</td>\n",
              "      <td>1</td>\n",
              "      <td>0</td>\n",
              "      <td>0</td>\n",
              "    </tr>\n",
              "    <tr>\n",
              "      <th>4</th>\n",
              "      <td>1</td>\n",
              "      <td>1</td>\n",
              "      <td>0</td>\n",
              "      <td>0</td>\n",
              "      <td>0</td>\n",
              "      <td>0</td>\n",
              "      <td>0</td>\n",
              "      <td>1</td>\n",
              "      <td>0</td>\n",
              "      <td>1</td>\n",
              "    </tr>\n",
              "    <tr>\n",
              "      <th>...</th>\n",
              "      <td>...</td>\n",
              "      <td>...</td>\n",
              "      <td>...</td>\n",
              "      <td>...</td>\n",
              "      <td>...</td>\n",
              "      <td>...</td>\n",
              "      <td>...</td>\n",
              "      <td>...</td>\n",
              "      <td>...</td>\n",
              "      <td>...</td>\n",
              "    </tr>\n",
              "    <tr>\n",
              "      <th>1995</th>\n",
              "      <td>1</td>\n",
              "      <td>0</td>\n",
              "      <td>0</td>\n",
              "      <td>0</td>\n",
              "      <td>0</td>\n",
              "      <td>0</td>\n",
              "      <td>1</td>\n",
              "      <td>0</td>\n",
              "      <td>1</td>\n",
              "      <td>0</td>\n",
              "    </tr>\n",
              "    <tr>\n",
              "      <th>1996</th>\n",
              "      <td>1</td>\n",
              "      <td>1</td>\n",
              "      <td>1</td>\n",
              "      <td>0</td>\n",
              "      <td>0</td>\n",
              "      <td>0</td>\n",
              "      <td>0</td>\n",
              "      <td>1</td>\n",
              "      <td>0</td>\n",
              "      <td>0</td>\n",
              "    </tr>\n",
              "    <tr>\n",
              "      <th>1997</th>\n",
              "      <td>0</td>\n",
              "      <td>0</td>\n",
              "      <td>0</td>\n",
              "      <td>0</td>\n",
              "      <td>0</td>\n",
              "      <td>0</td>\n",
              "      <td>1</td>\n",
              "      <td>0</td>\n",
              "      <td>0</td>\n",
              "      <td>0</td>\n",
              "    </tr>\n",
              "    <tr>\n",
              "      <th>1998</th>\n",
              "      <td>0</td>\n",
              "      <td>0</td>\n",
              "      <td>1</td>\n",
              "      <td>0</td>\n",
              "      <td>0</td>\n",
              "      <td>1</td>\n",
              "      <td>1</td>\n",
              "      <td>0</td>\n",
              "      <td>1</td>\n",
              "      <td>1</td>\n",
              "    </tr>\n",
              "    <tr>\n",
              "      <th>1999</th>\n",
              "      <td>0</td>\n",
              "      <td>0</td>\n",
              "      <td>1</td>\n",
              "      <td>0</td>\n",
              "      <td>0</td>\n",
              "      <td>1</td>\n",
              "      <td>1</td>\n",
              "      <td>0</td>\n",
              "      <td>1</td>\n",
              "      <td>1</td>\n",
              "    </tr>\n",
              "  </tbody>\n",
              "</table>\n",
              "<p>2000 rows × 10 columns</p>\n",
              "</div>"
            ],
            "text/plain": [
              "      Attractive  Heavy_Makeup  Smiling  ...  Wearing_Lipstick  Big_Nose  Big_Lips\n",
              "0              1             1        1  ...                 1         0         0\n",
              "1              0             0        1  ...                 0         1         0\n",
              "2              0             0        0  ...                 0         0         1\n",
              "3              1             0        0  ...                 1         0         0\n",
              "4              1             1        0  ...                 1         0         1\n",
              "...          ...           ...      ...  ...               ...       ...       ...\n",
              "1995           1             0        0  ...                 0         1         0\n",
              "1996           1             1        1  ...                 1         0         0\n",
              "1997           0             0        0  ...                 0         0         0\n",
              "1998           0             0        1  ...                 0         1         1\n",
              "1999           0             0        1  ...                 0         1         1\n",
              "\n",
              "[2000 rows x 10 columns]"
            ]
          },
          "metadata": {},
          "execution_count": 213
        }
      ]
    },
    {
      "cell_type": "code",
      "metadata": {
        "id": "Vayf1s1O5D61"
      },
      "source": [
        "# function to display the image & its attributes\n",
        "def display_image_attributes(index, df = df_org, size=original_image_size):\n",
        "\n",
        "    test_image = image_array(index, size)\n",
        "    points_list = image_key_points_list(index, df)\n",
        "    attr_list = image_key_attributes_name()\n",
        "        \n",
        "    # Create figure and axes\n",
        "    fig, ax = plt.subplots()\n",
        "    # plot the image\n",
        "    ax.imshow(test_image)\n",
        "\n",
        "    iAttr = 0\n",
        "    for  point in points_list:\n",
        "      present = \"No\"\n",
        "      if point == 1:\n",
        "        present = \"Yes\"\n",
        "      print(attr_list[iAttr], \"-->\", present)\n",
        "      iAttr = iAttr + 1\n",
        "      "
      ],
      "execution_count": null,
      "outputs": []
    },
    {
      "cell_type": "code",
      "metadata": {
        "colab": {
          "base_uri": "https://localhost:8080/",
          "height": 439
        },
        "id": "SfRYlVRe5EF8",
        "outputId": "a18a0fb3-64d7-4af6-981e-b870dd93a06b"
      },
      "source": [
        "# Display Image attributes\n",
        "display_image_attributes(random.randint(1, images_data_size))"
      ],
      "execution_count": null,
      "outputs": [
        {
          "output_type": "stream",
          "text": [
            "Attractive --> No\n",
            "Heavy_Makeup --> No\n",
            "Smiling --> Yes\n",
            "Straight_Hair --> No\n",
            "Blond_Hair --> No\n",
            "Bags_Under_Eyes --> No\n",
            "Male --> Yes\n",
            "Wearing_Lipstick --> No\n",
            "Big_Nose --> Yes\n",
            "Big_Lips --> Yes\n"
          ],
          "name": "stdout"
        },
        {
          "output_type": "display_data",
          "data": {
            "image/png": "[encoded data removed]",
            "text/plain": [
              "<Figure size 432x288 with 1 Axes>"
            ]
          },
          "metadata": {
            "needs_background": "light"
          }
        }
      ]
    },
    {
      "cell_type": "markdown",
      "metadata": {
        "id": "zWO7Wggr5e_l"
      },
      "source": [
        "## Preparing the data for our Deep Learning"
      ]
    },
    {
      "cell_type": "code",
      "metadata": {
        "colab": {
          "base_uri": "https://localhost:8080/",
          "height": 204
        },
        "id": "3STdWK8l5ENt",
        "outputId": "f0c2f7f2-a044-45e7-cc15-1581fb7ff213"
      },
      "source": [
        "# copy a version from the data to prepare it for analysis\n",
        "df = df_new.copy()\n",
        "\n",
        "# check\n",
        "df.head(5)"
      ],
      "execution_count": null,
      "outputs": [
        {
          "output_type": "execute_result",
          "data": {
            "text/html": [
              "<div>\n",
              "<style scoped>\n",
              "    .dataframe tbody tr th:only-of-type {\n",
              "        vertical-align: middle;\n",
              "    }\n",
              "\n",
              "    .dataframe tbody tr th {\n",
              "        vertical-align: top;\n",
              "    }\n",
              "\n",
              "    .dataframe thead th {\n",
              "        text-align: right;\n",
              "    }\n",
              "</style>\n",
              "<table border=\"1\" class=\"dataframe\">\n",
              "  <thead>\n",
              "    <tr style=\"text-align: right;\">\n",
              "      <th></th>\n",
              "      <th>Attractive</th>\n",
              "      <th>Heavy_Makeup</th>\n",
              "      <th>Smiling</th>\n",
              "      <th>Straight_Hair</th>\n",
              "      <th>Blond_Hair</th>\n",
              "      <th>Bags_Under_Eyes</th>\n",
              "      <th>Male</th>\n",
              "      <th>Wearing_Lipstick</th>\n",
              "      <th>Big_Nose</th>\n",
              "      <th>Big_Lips</th>\n",
              "    </tr>\n",
              "  </thead>\n",
              "  <tbody>\n",
              "    <tr>\n",
              "      <th>0</th>\n",
              "      <td>1</td>\n",
              "      <td>1</td>\n",
              "      <td>1</td>\n",
              "      <td>1</td>\n",
              "      <td>0</td>\n",
              "      <td>0</td>\n",
              "      <td>0</td>\n",
              "      <td>1</td>\n",
              "      <td>0</td>\n",
              "      <td>0</td>\n",
              "    </tr>\n",
              "    <tr>\n",
              "      <th>1</th>\n",
              "      <td>0</td>\n",
              "      <td>0</td>\n",
              "      <td>1</td>\n",
              "      <td>0</td>\n",
              "      <td>0</td>\n",
              "      <td>1</td>\n",
              "      <td>0</td>\n",
              "      <td>0</td>\n",
              "      <td>1</td>\n",
              "      <td>0</td>\n",
              "    </tr>\n",
              "    <tr>\n",
              "      <th>2</th>\n",
              "      <td>0</td>\n",
              "      <td>0</td>\n",
              "      <td>0</td>\n",
              "      <td>0</td>\n",
              "      <td>0</td>\n",
              "      <td>0</td>\n",
              "      <td>1</td>\n",
              "      <td>0</td>\n",
              "      <td>0</td>\n",
              "      <td>1</td>\n",
              "    </tr>\n",
              "    <tr>\n",
              "      <th>3</th>\n",
              "      <td>1</td>\n",
              "      <td>0</td>\n",
              "      <td>0</td>\n",
              "      <td>1</td>\n",
              "      <td>0</td>\n",
              "      <td>0</td>\n",
              "      <td>0</td>\n",
              "      <td>1</td>\n",
              "      <td>0</td>\n",
              "      <td>0</td>\n",
              "    </tr>\n",
              "    <tr>\n",
              "      <th>4</th>\n",
              "      <td>1</td>\n",
              "      <td>1</td>\n",
              "      <td>0</td>\n",
              "      <td>0</td>\n",
              "      <td>0</td>\n",
              "      <td>0</td>\n",
              "      <td>0</td>\n",
              "      <td>1</td>\n",
              "      <td>0</td>\n",
              "      <td>1</td>\n",
              "    </tr>\n",
              "  </tbody>\n",
              "</table>\n",
              "</div>"
            ],
            "text/plain": [
              "   Attractive  Heavy_Makeup  Smiling  ...  Wearing_Lipstick  Big_Nose  Big_Lips\n",
              "0           1             1        1  ...                 1         0         0\n",
              "1           0             0        1  ...                 0         1         0\n",
              "2           0             0        0  ...                 0         0         1\n",
              "3           1             0        0  ...                 1         0         0\n",
              "4           1             1        0  ...                 1         0         1\n",
              "\n",
              "[5 rows x 10 columns]"
            ]
          },
          "metadata": {},
          "execution_count": 216
        }
      ]
    },
    {
      "cell_type": "code",
      "metadata": {
        "id": "6QPPLZxX5iUx"
      },
      "source": [
        "# function for updating key points for a new size\n",
        "#def rescale_key_points(oldsize=original_image_size, newsize=image_size_training):\n",
        "#    \"\"\"\n",
        "#    This function is for rescaling the key points from the original scale to a nwe scale from our chossen and we reduce\n",
        "#    the image size to make the analysis faster and using lower memory\n",
        "#    \"\"\"\n",
        "#    # old and nwe sizes (x,y) values\n",
        "#    x_axis_old = oldsize[0]\n",
        "#    y_axis_old = oldsize[1]\n",
        "#\n",
        "#    x_axis_new = newsize[0]\n",
        "#    y_axis_new = newsize[1]\n",
        "#\n",
        "#    x_ratio = x_axis_new / x_axis_old\n",
        "#    y_ratio = y_axis_new / y_axis_old\n",
        "#    \n",
        "#    # converting the keypoints values to be trained with the new size of the images\n",
        "#    keypoints_x = ['lefteye_x', 'righteye_x', 'nose_x', 'leftmouth_x', 'rightmouth_x']\n",
        "#    keypoints_y = ['lefteye_y', 'righteye_y', 'nose_y', 'leftmouth_y', 'rightmouth_y']\n",
        "    \n",
        "#    df[keypoints_x] = (df[keypoints_x] * x_ratio).astype('int')\n",
        "#    df[keypoints_y] = (df[keypoints_y] * y_ratio).astype('int')\n",
        "    \n",
        "#    return 0\n",
        "\n",
        "# call the function\n",
        "#rescale_key_points()\n",
        "\n",
        "# check\n",
        "#df.head()\n"
      ],
      "execution_count": null,
      "outputs": []
    },
    {
      "cell_type": "code",
      "metadata": {
        "id": "57CEKTeS5iY9"
      },
      "source": [
        "images=images_data\n",
        "labels=df"
      ],
      "execution_count": null,
      "outputs": []
    },
    {
      "cell_type": "code",
      "metadata": {
        "id": "UmgjLCtl5icv"
      },
      "source": [
        "from sklearn.model_selection import train_test_split"
      ],
      "execution_count": null,
      "outputs": []
    },
    {
      "cell_type": "code",
      "metadata": {
        "id": "EhKzjf555ihU"
      },
      "source": [
        "train_images,test_images,train_labels,test_labels=train_test_split(images,labels,\n",
        "                                                                  test_size=0.3,random_state=42)"
      ],
      "execution_count": null,
      "outputs": []
    },
    {
      "cell_type": "code",
      "metadata": {
        "id": "ihj1zdax5ilr"
      },
      "source": [
        "y_test=test_labels\n",
        "y_train=train_labels\n",
        "\n",
        "X_test=test_images\n",
        "X_train=train_images"
      ],
      "execution_count": null,
      "outputs": []
    },
    {
      "cell_type": "code",
      "metadata": {
        "id": "XGw91Az95ipf"
      },
      "source": [
        "## Further splitting the test data into validation and test data\n",
        "X_test, X_val, y_test, y_val=train_test_split(X_test, y_test,\n",
        "                                              test_size=0.5,random_state=42)"
      ],
      "execution_count": null,
      "outputs": []
    },
    {
      "cell_type": "code",
      "metadata": {
        "colab": {
          "base_uri": "https://localhost:8080/",
          "height": 142
        },
        "id": "WnUyTpZUdi13",
        "outputId": "1732744e-4690-4c11-9358-8e79e34aa805"
      },
      "source": [
        "y_test.head(3)\n"
      ],
      "execution_count": null,
      "outputs": [
        {
          "output_type": "execute_result",
          "data": {
            "text/html": [
              "<div>\n",
              "<style scoped>\n",
              "    .dataframe tbody tr th:only-of-type {\n",
              "        vertical-align: middle;\n",
              "    }\n",
              "\n",
              "    .dataframe tbody tr th {\n",
              "        vertical-align: top;\n",
              "    }\n",
              "\n",
              "    .dataframe thead th {\n",
              "        text-align: right;\n",
              "    }\n",
              "</style>\n",
              "<table border=\"1\" class=\"dataframe\">\n",
              "  <thead>\n",
              "    <tr style=\"text-align: right;\">\n",
              "      <th></th>\n",
              "      <th>Attractive</th>\n",
              "      <th>Heavy_Makeup</th>\n",
              "      <th>Smiling</th>\n",
              "      <th>Straight_Hair</th>\n",
              "      <th>Blond_Hair</th>\n",
              "      <th>Bags_Under_Eyes</th>\n",
              "      <th>Male</th>\n",
              "      <th>Wearing_Lipstick</th>\n",
              "      <th>Big_Nose</th>\n",
              "      <th>Big_Lips</th>\n",
              "    </tr>\n",
              "  </thead>\n",
              "  <tbody>\n",
              "    <tr>\n",
              "      <th>49</th>\n",
              "      <td>1</td>\n",
              "      <td>0</td>\n",
              "      <td>1</td>\n",
              "      <td>0</td>\n",
              "      <td>0</td>\n",
              "      <td>0</td>\n",
              "      <td>1</td>\n",
              "      <td>0</td>\n",
              "      <td>0</td>\n",
              "      <td>0</td>\n",
              "    </tr>\n",
              "    <tr>\n",
              "      <th>1389</th>\n",
              "      <td>0</td>\n",
              "      <td>1</td>\n",
              "      <td>1</td>\n",
              "      <td>0</td>\n",
              "      <td>0</td>\n",
              "      <td>0</td>\n",
              "      <td>0</td>\n",
              "      <td>1</td>\n",
              "      <td>0</td>\n",
              "      <td>1</td>\n",
              "    </tr>\n",
              "    <tr>\n",
              "      <th>1861</th>\n",
              "      <td>0</td>\n",
              "      <td>0</td>\n",
              "      <td>0</td>\n",
              "      <td>0</td>\n",
              "      <td>0</td>\n",
              "      <td>1</td>\n",
              "      <td>0</td>\n",
              "      <td>0</td>\n",
              "      <td>0</td>\n",
              "      <td>1</td>\n",
              "    </tr>\n",
              "  </tbody>\n",
              "</table>\n",
              "</div>"
            ],
            "text/plain": [
              "      Attractive  Heavy_Makeup  Smiling  ...  Wearing_Lipstick  Big_Nose  Big_Lips\n",
              "49             1             0        1  ...                 0         0         0\n",
              "1389           0             1        1  ...                 1         0         1\n",
              "1861           0             0        0  ...                 0         0         1\n",
              "\n",
              "[3 rows x 10 columns]"
            ]
          },
          "metadata": {},
          "execution_count": 223
        }
      ]
    },
    {
      "cell_type": "code",
      "metadata": {
        "colab": {
          "base_uri": "https://localhost:8080/",
          "height": 142
        },
        "id": "C-IF8GaC39zV",
        "outputId": "a044b4a1-e14e-4ff6-a8c2-a7e253444e1a"
      },
      "source": [
        "y_val.head(3)"
      ],
      "execution_count": null,
      "outputs": [
        {
          "output_type": "execute_result",
          "data": {
            "text/html": [
              "<div>\n",
              "<style scoped>\n",
              "    .dataframe tbody tr th:only-of-type {\n",
              "        vertical-align: middle;\n",
              "    }\n",
              "\n",
              "    .dataframe tbody tr th {\n",
              "        vertical-align: top;\n",
              "    }\n",
              "\n",
              "    .dataframe thead th {\n",
              "        text-align: right;\n",
              "    }\n",
              "</style>\n",
              "<table border=\"1\" class=\"dataframe\">\n",
              "  <thead>\n",
              "    <tr style=\"text-align: right;\">\n",
              "      <th></th>\n",
              "      <th>Attractive</th>\n",
              "      <th>Heavy_Makeup</th>\n",
              "      <th>Smiling</th>\n",
              "      <th>Straight_Hair</th>\n",
              "      <th>Blond_Hair</th>\n",
              "      <th>Bags_Under_Eyes</th>\n",
              "      <th>Male</th>\n",
              "      <th>Wearing_Lipstick</th>\n",
              "      <th>Big_Nose</th>\n",
              "      <th>Big_Lips</th>\n",
              "    </tr>\n",
              "  </thead>\n",
              "  <tbody>\n",
              "    <tr>\n",
              "      <th>771</th>\n",
              "      <td>1</td>\n",
              "      <td>1</td>\n",
              "      <td>0</td>\n",
              "      <td>0</td>\n",
              "      <td>0</td>\n",
              "      <td>0</td>\n",
              "      <td>0</td>\n",
              "      <td>1</td>\n",
              "      <td>0</td>\n",
              "      <td>0</td>\n",
              "    </tr>\n",
              "    <tr>\n",
              "      <th>1788</th>\n",
              "      <td>1</td>\n",
              "      <td>1</td>\n",
              "      <td>1</td>\n",
              "      <td>0</td>\n",
              "      <td>0</td>\n",
              "      <td>0</td>\n",
              "      <td>0</td>\n",
              "      <td>1</td>\n",
              "      <td>0</td>\n",
              "      <td>0</td>\n",
              "    </tr>\n",
              "    <tr>\n",
              "      <th>1106</th>\n",
              "      <td>0</td>\n",
              "      <td>0</td>\n",
              "      <td>0</td>\n",
              "      <td>0</td>\n",
              "      <td>0</td>\n",
              "      <td>0</td>\n",
              "      <td>0</td>\n",
              "      <td>0</td>\n",
              "      <td>0</td>\n",
              "      <td>0</td>\n",
              "    </tr>\n",
              "  </tbody>\n",
              "</table>\n",
              "</div>"
            ],
            "text/plain": [
              "      Attractive  Heavy_Makeup  Smiling  ...  Wearing_Lipstick  Big_Nose  Big_Lips\n",
              "771            1             1        0  ...                 1         0         0\n",
              "1788           1             1        1  ...                 1         0         0\n",
              "1106           0             0        0  ...                 0         0         0\n",
              "\n",
              "[3 rows x 10 columns]"
            ]
          },
          "metadata": {},
          "execution_count": 224
        }
      ]
    },
    {
      "cell_type": "markdown",
      "metadata": {
        "id": "5biV2_TR5ZWg"
      },
      "source": [
        ""
      ]
    },
    {
      "cell_type": "markdown",
      "metadata": {
        "id": "j7YGtcgA5a38"
      },
      "source": [
        "# MobileNetV2 Model"
      ]
    },
    {
      "cell_type": "code",
      "metadata": {
        "colab": {
          "base_uri": "https://localhost:8080/"
        },
        "id": "FB7pGFEAVTVn",
        "outputId": "016bdcd2-a6b1-4761-d415-9f65d8219eee"
      },
      "source": [
        "# This is addition of new code as Seuqential model is not giving results as expected. \n",
        "from keras.models import Model \n",
        "from keras.layers import Dropout, Dense, BatchNormalization\n",
        "from keras.applications.mobilenet_v2 import MobileNetV2\n",
        "\n",
        "x__ = image_size_training[0]\n",
        "y__ = image_size_training[1]\n",
        "\n",
        "base = MobileNetV2(input_shape=(y__, x__, 3),\n",
        "                    weights=None,\n",
        "                    include_top=False,\n",
        "                    pooling='avg')  # GlobalAveragePooling 2D\n",
        "\n",
        "# model top\n",
        "x = base.output\n",
        "x = Dense(1536, activation='relu')(x)\n",
        "x = BatchNormalization()(x)\n",
        "x = Dropout(0.3)(x)\n",
        "top = Dense(no_attributes, activation='sigmoid')(x)\n",
        "\n",
        "modelv01=Model(inputs=base.input, outputs=top)\n",
        "modelv01.summary()"
      ],
      "execution_count": null,
      "outputs": [
        {
          "output_type": "stream",
          "text": [
            "Model: \"model_4\"\n",
            "__________________________________________________________________________________________________\n",
            "Layer (type)                    Output Shape         Param #     Connected to                     \n",
            "==================================================================================================\n",
            "input_5 (InputLayer)            [(None, 81, 100, 3)] 0                                            \n",
            "__________________________________________________________________________________________________\n",
            "Conv1 (Conv2D)                  (None, 41, 50, 32)   864         input_5[0][0]                    \n",
            "__________________________________________________________________________________________________\n",
            "bn_Conv1 (BatchNormalization)   (None, 41, 50, 32)   128         Conv1[0][0]                      \n",
            "__________________________________________________________________________________________________\n",
            "Conv1_relu (ReLU)               (None, 41, 50, 32)   0           bn_Conv1[0][0]                   \n",
            "__________________________________________________________________________________________________\n",
            "expanded_conv_depthwise (Depthw (None, 41, 50, 32)   288         Conv1_relu[0][0]                 \n",
            "__________________________________________________________________________________________________\n",
            "expanded_conv_depthwise_BN (Bat (None, 41, 50, 32)   128         expanded_conv_depthwise[0][0]    \n",
            "__________________________________________________________________________________________________\n",
            "expanded_conv_depthwise_relu (R (None, 41, 50, 32)   0           expanded_conv_depthwise_BN[0][0] \n",
            "__________________________________________________________________________________________________\n",
            "expanded_conv_project (Conv2D)  (None, 41, 50, 16)   512         expanded_conv_depthwise_relu[0][0\n",
            "__________________________________________________________________________________________________\n",
            "expanded_conv_project_BN (Batch (None, 41, 50, 16)   64          expanded_conv_project[0][0]      \n",
            "__________________________________________________________________________________________________\n",
            "block_1_expand (Conv2D)         (None, 41, 50, 96)   1536        expanded_conv_project_BN[0][0]   \n",
            "__________________________________________________________________________________________________\n",
            "block_1_expand_BN (BatchNormali (None, 41, 50, 96)   384         block_1_expand[0][0]             \n",
            "__________________________________________________________________________________________________\n",
            "block_1_expand_relu (ReLU)      (None, 41, 50, 96)   0           block_1_expand_BN[0][0]          \n",
            "__________________________________________________________________________________________________\n",
            "block_1_pad (ZeroPadding2D)     (None, 43, 51, 96)   0           block_1_expand_relu[0][0]        \n",
            "__________________________________________________________________________________________________\n",
            "block_1_depthwise (DepthwiseCon (None, 21, 25, 96)   864         block_1_pad[0][0]                \n",
            "__________________________________________________________________________________________________\n",
            "block_1_depthwise_BN (BatchNorm (None, 21, 25, 96)   384         block_1_depthwise[0][0]          \n",
            "__________________________________________________________________________________________________\n",
            "block_1_depthwise_relu (ReLU)   (None, 21, 25, 96)   0           block_1_depthwise_BN[0][0]       \n",
            "__________________________________________________________________________________________________\n",
            "block_1_project (Conv2D)        (None, 21, 25, 24)   2304        block_1_depthwise_relu[0][0]     \n",
            "__________________________________________________________________________________________________\n",
            "block_1_project_BN (BatchNormal (None, 21, 25, 24)   96          block_1_project[0][0]            \n",
            "__________________________________________________________________________________________________\n",
            "block_2_expand (Conv2D)         (None, 21, 25, 144)  3456        block_1_project_BN[0][0]         \n",
            "__________________________________________________________________________________________________\n",
            "block_2_expand_BN (BatchNormali (None, 21, 25, 144)  576         block_2_expand[0][0]             \n",
            "__________________________________________________________________________________________________\n",
            "block_2_expand_relu (ReLU)      (None, 21, 25, 144)  0           block_2_expand_BN[0][0]          \n",
            "__________________________________________________________________________________________________\n",
            "block_2_depthwise (DepthwiseCon (None, 21, 25, 144)  1296        block_2_expand_relu[0][0]        \n",
            "__________________________________________________________________________________________________\n",
            "block_2_depthwise_BN (BatchNorm (None, 21, 25, 144)  576         block_2_depthwise[0][0]          \n",
            "__________________________________________________________________________________________________\n",
            "block_2_depthwise_relu (ReLU)   (None, 21, 25, 144)  0           block_2_depthwise_BN[0][0]       \n",
            "__________________________________________________________________________________________________\n",
            "block_2_project (Conv2D)        (None, 21, 25, 24)   3456        block_2_depthwise_relu[0][0]     \n",
            "__________________________________________________________________________________________________\n",
            "block_2_project_BN (BatchNormal (None, 21, 25, 24)   96          block_2_project[0][0]            \n",
            "__________________________________________________________________________________________________\n",
            "block_2_add (Add)               (None, 21, 25, 24)   0           block_1_project_BN[0][0]         \n",
            "                                                                 block_2_project_BN[0][0]         \n",
            "__________________________________________________________________________________________________\n",
            "block_3_expand (Conv2D)         (None, 21, 25, 144)  3456        block_2_add[0][0]                \n",
            "__________________________________________________________________________________________________\n",
            "block_3_expand_BN (BatchNormali (None, 21, 25, 144)  576         block_3_expand[0][0]             \n",
            "__________________________________________________________________________________________________\n",
            "block_3_expand_relu (ReLU)      (None, 21, 25, 144)  0           block_3_expand_BN[0][0]          \n",
            "__________________________________________________________________________________________________\n",
            "block_3_pad (ZeroPadding2D)     (None, 23, 27, 144)  0           block_3_expand_relu[0][0]        \n",
            "__________________________________________________________________________________________________\n",
            "block_3_depthwise (DepthwiseCon (None, 11, 13, 144)  1296        block_3_pad[0][0]                \n",
            "__________________________________________________________________________________________________\n",
            "block_3_depthwise_BN (BatchNorm (None, 11, 13, 144)  576         block_3_depthwise[0][0]          \n",
            "__________________________________________________________________________________________________\n",
            "block_3_depthwise_relu (ReLU)   (None, 11, 13, 144)  0           block_3_depthwise_BN[0][0]       \n",
            "__________________________________________________________________________________________________\n",
            "block_3_project (Conv2D)        (None, 11, 13, 32)   4608        block_3_depthwise_relu[0][0]     \n",
            "__________________________________________________________________________________________________\n",
            "block_3_project_BN (BatchNormal (None, 11, 13, 32)   128         block_3_project[0][0]            \n",
            "__________________________________________________________________________________________________\n",
            "block_4_expand (Conv2D)         (None, 11, 13, 192)  6144        block_3_project_BN[0][0]         \n",
            "__________________________________________________________________________________________________\n",
            "block_4_expand_BN (BatchNormali (None, 11, 13, 192)  768         block_4_expand[0][0]             \n",
            "__________________________________________________________________________________________________\n",
            "block_4_expand_relu (ReLU)      (None, 11, 13, 192)  0           block_4_expand_BN[0][0]          \n",
            "__________________________________________________________________________________________________\n",
            "block_4_depthwise (DepthwiseCon (None, 11, 13, 192)  1728        block_4_expand_relu[0][0]        \n",
            "__________________________________________________________________________________________________\n",
            "block_4_depthwise_BN (BatchNorm (None, 11, 13, 192)  768         block_4_depthwise[0][0]          \n",
            "__________________________________________________________________________________________________\n",
            "block_4_depthwise_relu (ReLU)   (None, 11, 13, 192)  0           block_4_depthwise_BN[0][0]       \n",
            "__________________________________________________________________________________________________\n",
            "block_4_project (Conv2D)        (None, 11, 13, 32)   6144        block_4_depthwise_relu[0][0]     \n",
            "__________________________________________________________________________________________________\n",
            "block_4_project_BN (BatchNormal (None, 11, 13, 32)   128         block_4_project[0][0]            \n",
            "__________________________________________________________________________________________________\n",
            "block_4_add (Add)               (None, 11, 13, 32)   0           block_3_project_BN[0][0]         \n",
            "                                                                 block_4_project_BN[0][0]         \n",
            "__________________________________________________________________________________________________\n",
            "block_5_expand (Conv2D)         (None, 11, 13, 192)  6144        block_4_add[0][0]                \n",
            "__________________________________________________________________________________________________\n",
            "block_5_expand_BN (BatchNormali (None, 11, 13, 192)  768         block_5_expand[0][0]             \n",
            "__________________________________________________________________________________________________\n",
            "block_5_expand_relu (ReLU)      (None, 11, 13, 192)  0           block_5_expand_BN[0][0]          \n",
            "__________________________________________________________________________________________________\n",
            "block_5_depthwise (DepthwiseCon (None, 11, 13, 192)  1728        block_5_expand_relu[0][0]        \n",
            "__________________________________________________________________________________________________\n",
            "block_5_depthwise_BN (BatchNorm (None, 11, 13, 192)  768         block_5_depthwise[0][0]          \n",
            "__________________________________________________________________________________________________\n",
            "block_5_depthwise_relu (ReLU)   (None, 11, 13, 192)  0           block_5_depthwise_BN[0][0]       \n",
            "__________________________________________________________________________________________________\n",
            "block_5_project (Conv2D)        (None, 11, 13, 32)   6144        block_5_depthwise_relu[0][0]     \n",
            "__________________________________________________________________________________________________\n",
            "block_5_project_BN (BatchNormal (None, 11, 13, 32)   128         block_5_project[0][0]            \n",
            "__________________________________________________________________________________________________\n",
            "block_5_add (Add)               (None, 11, 13, 32)   0           block_4_add[0][0]                \n",
            "                                                                 block_5_project_BN[0][0]         \n",
            "__________________________________________________________________________________________________\n",
            "block_6_expand (Conv2D)         (None, 11, 13, 192)  6144        block_5_add[0][0]                \n",
            "__________________________________________________________________________________________________\n",
            "block_6_expand_BN (BatchNormali (None, 11, 13, 192)  768         block_6_expand[0][0]             \n",
            "__________________________________________________________________________________________________\n",
            "block_6_expand_relu (ReLU)      (None, 11, 13, 192)  0           block_6_expand_BN[0][0]          \n",
            "__________________________________________________________________________________________________\n",
            "block_6_pad (ZeroPadding2D)     (None, 13, 15, 192)  0           block_6_expand_relu[0][0]        \n",
            "__________________________________________________________________________________________________\n",
            "block_6_depthwise (DepthwiseCon (None, 6, 7, 192)    1728        block_6_pad[0][0]                \n",
            "__________________________________________________________________________________________________\n",
            "block_6_depthwise_BN (BatchNorm (None, 6, 7, 192)    768         block_6_depthwise[0][0]          \n",
            "__________________________________________________________________________________________________\n",
            "block_6_depthwise_relu (ReLU)   (None, 6, 7, 192)    0           block_6_depthwise_BN[0][0]       \n",
            "__________________________________________________________________________________________________\n",
            "block_6_project (Conv2D)        (None, 6, 7, 64)     12288       block_6_depthwise_relu[0][0]     \n",
            "__________________________________________________________________________________________________\n",
            "block_6_project_BN (BatchNormal (None, 6, 7, 64)     256         block_6_project[0][0]            \n",
            "__________________________________________________________________________________________________\n",
            "block_7_expand (Conv2D)         (None, 6, 7, 384)    24576       block_6_project_BN[0][0]         \n",
            "__________________________________________________________________________________________________\n",
            "block_7_expand_BN (BatchNormali (None, 6, 7, 384)    1536        block_7_expand[0][0]             \n",
            "__________________________________________________________________________________________________\n",
            "block_7_expand_relu (ReLU)      (None, 6, 7, 384)    0           block_7_expand_BN[0][0]          \n",
            "__________________________________________________________________________________________________\n",
            "block_7_depthwise (DepthwiseCon (None, 6, 7, 384)    3456        block_7_expand_relu[0][0]        \n",
            "__________________________________________________________________________________________________\n",
            "block_7_depthwise_BN (BatchNorm (None, 6, 7, 384)    1536        block_7_depthwise[0][0]          \n",
            "__________________________________________________________________________________________________\n",
            "block_7_depthwise_relu (ReLU)   (None, 6, 7, 384)    0           block_7_depthwise_BN[0][0]       \n",
            "__________________________________________________________________________________________________\n",
            "block_7_project (Conv2D)        (None, 6, 7, 64)     24576       block_7_depthwise_relu[0][0]     \n",
            "__________________________________________________________________________________________________\n",
            "block_7_project_BN (BatchNormal (None, 6, 7, 64)     256         block_7_project[0][0]            \n",
            "__________________________________________________________________________________________________\n",
            "block_7_add (Add)               (None, 6, 7, 64)     0           block_6_project_BN[0][0]         \n",
            "                                                                 block_7_project_BN[0][0]         \n",
            "__________________________________________________________________________________________________\n",
            "block_8_expand (Conv2D)         (None, 6, 7, 384)    24576       block_7_add[0][0]                \n",
            "__________________________________________________________________________________________________\n",
            "block_8_expand_BN (BatchNormali (None, 6, 7, 384)    1536        block_8_expand[0][0]             \n",
            "__________________________________________________________________________________________________\n",
            "block_8_expand_relu (ReLU)      (None, 6, 7, 384)    0           block_8_expand_BN[0][0]          \n",
            "__________________________________________________________________________________________________\n",
            "block_8_depthwise (DepthwiseCon (None, 6, 7, 384)    3456        block_8_expand_relu[0][0]        \n",
            "__________________________________________________________________________________________________\n",
            "block_8_depthwise_BN (BatchNorm (None, 6, 7, 384)    1536        block_8_depthwise[0][0]          \n",
            "__________________________________________________________________________________________________\n",
            "block_8_depthwise_relu (ReLU)   (None, 6, 7, 384)    0           block_8_depthwise_BN[0][0]       \n",
            "__________________________________________________________________________________________________\n",
            "block_8_project (Conv2D)        (None, 6, 7, 64)     24576       block_8_depthwise_relu[0][0]     \n",
            "__________________________________________________________________________________________________\n",
            "block_8_project_BN (BatchNormal (None, 6, 7, 64)     256         block_8_project[0][0]            \n",
            "__________________________________________________________________________________________________\n",
            "block_8_add (Add)               (None, 6, 7, 64)     0           block_7_add[0][0]                \n",
            "                                                                 block_8_project_BN[0][0]         \n",
            "__________________________________________________________________________________________________\n",
            "block_9_expand (Conv2D)         (None, 6, 7, 384)    24576       block_8_add[0][0]                \n",
            "__________________________________________________________________________________________________\n",
            "block_9_expand_BN (BatchNormali (None, 6, 7, 384)    1536        block_9_expand[0][0]             \n",
            "__________________________________________________________________________________________________\n",
            "block_9_expand_relu (ReLU)      (None, 6, 7, 384)    0           block_9_expand_BN[0][0]          \n",
            "__________________________________________________________________________________________________\n",
            "block_9_depthwise (DepthwiseCon (None, 6, 7, 384)    3456        block_9_expand_relu[0][0]        \n",
            "__________________________________________________________________________________________________\n",
            "block_9_depthwise_BN (BatchNorm (None, 6, 7, 384)    1536        block_9_depthwise[0][0]          \n",
            "__________________________________________________________________________________________________\n",
            "block_9_depthwise_relu (ReLU)   (None, 6, 7, 384)    0           block_9_depthwise_BN[0][0]       \n",
            "__________________________________________________________________________________________________\n",
            "block_9_project (Conv2D)        (None, 6, 7, 64)     24576       block_9_depthwise_relu[0][0]     \n",
            "__________________________________________________________________________________________________\n",
            "block_9_project_BN (BatchNormal (None, 6, 7, 64)     256         block_9_project[0][0]            \n",
            "__________________________________________________________________________________________________\n",
            "block_9_add (Add)               (None, 6, 7, 64)     0           block_8_add[0][0]                \n",
            "                                                                 block_9_project_BN[0][0]         \n",
            "__________________________________________________________________________________________________\n",
            "block_10_expand (Conv2D)        (None, 6, 7, 384)    24576       block_9_add[0][0]                \n",
            "__________________________________________________________________________________________________\n",
            "block_10_expand_BN (BatchNormal (None, 6, 7, 384)    1536        block_10_expand[0][0]            \n",
            "__________________________________________________________________________________________________\n",
            "block_10_expand_relu (ReLU)     (None, 6, 7, 384)    0           block_10_expand_BN[0][0]         \n",
            "__________________________________________________________________________________________________\n",
            "block_10_depthwise (DepthwiseCo (None, 6, 7, 384)    3456        block_10_expand_relu[0][0]       \n",
            "__________________________________________________________________________________________________\n",
            "block_10_depthwise_BN (BatchNor (None, 6, 7, 384)    1536        block_10_depthwise[0][0]         \n",
            "__________________________________________________________________________________________________\n",
            "block_10_depthwise_relu (ReLU)  (None, 6, 7, 384)    0           block_10_depthwise_BN[0][0]      \n",
            "__________________________________________________________________________________________________\n",
            "block_10_project (Conv2D)       (None, 6, 7, 96)     36864       block_10_depthwise_relu[0][0]    \n",
            "__________________________________________________________________________________________________\n",
            "block_10_project_BN (BatchNorma (None, 6, 7, 96)     384         block_10_project[0][0]           \n",
            "__________________________________________________________________________________________________\n",
            "block_11_expand (Conv2D)        (None, 6, 7, 576)    55296       block_10_project_BN[0][0]        \n",
            "__________________________________________________________________________________________________\n",
            "block_11_expand_BN (BatchNormal (None, 6, 7, 576)    2304        block_11_expand[0][0]            \n",
            "__________________________________________________________________________________________________\n",
            "block_11_expand_relu (ReLU)     (None, 6, 7, 576)    0           block_11_expand_BN[0][0]         \n",
            "__________________________________________________________________________________________________\n",
            "block_11_depthwise (DepthwiseCo (None, 6, 7, 576)    5184        block_11_expand_relu[0][0]       \n",
            "__________________________________________________________________________________________________\n",
            "block_11_depthwise_BN (BatchNor (None, 6, 7, 576)    2304        block_11_depthwise[0][0]         \n",
            "__________________________________________________________________________________________________\n",
            "block_11_depthwise_relu (ReLU)  (None, 6, 7, 576)    0           block_11_depthwise_BN[0][0]      \n",
            "__________________________________________________________________________________________________\n",
            "block_11_project (Conv2D)       (None, 6, 7, 96)     55296       block_11_depthwise_relu[0][0]    \n",
            "__________________________________________________________________________________________________\n",
            "block_11_project_BN (BatchNorma (None, 6, 7, 96)     384         block_11_project[0][0]           \n",
            "__________________________________________________________________________________________________\n",
            "block_11_add (Add)              (None, 6, 7, 96)     0           block_10_project_BN[0][0]        \n",
            "                                                                 block_11_project_BN[0][0]        \n",
            "__________________________________________________________________________________________________\n",
            "block_12_expand (Conv2D)        (None, 6, 7, 576)    55296       block_11_add[0][0]               \n",
            "__________________________________________________________________________________________________\n",
            "block_12_expand_BN (BatchNormal (None, 6, 7, 576)    2304        block_12_expand[0][0]            \n",
            "__________________________________________________________________________________________________\n",
            "block_12_expand_relu (ReLU)     (None, 6, 7, 576)    0           block_12_expand_BN[0][0]         \n",
            "__________________________________________________________________________________________________\n",
            "block_12_depthwise (DepthwiseCo (None, 6, 7, 576)    5184        block_12_expand_relu[0][0]       \n",
            "__________________________________________________________________________________________________\n",
            "block_12_depthwise_BN (BatchNor (None, 6, 7, 576)    2304        block_12_depthwise[0][0]         \n",
            "__________________________________________________________________________________________________\n",
            "block_12_depthwise_relu (ReLU)  (None, 6, 7, 576)    0           block_12_depthwise_BN[0][0]      \n",
            "__________________________________________________________________________________________________\n",
            "block_12_project (Conv2D)       (None, 6, 7, 96)     55296       block_12_depthwise_relu[0][0]    \n",
            "__________________________________________________________________________________________________\n",
            "block_12_project_BN (BatchNorma (None, 6, 7, 96)     384         block_12_project[0][0]           \n",
            "__________________________________________________________________________________________________\n",
            "block_12_add (Add)              (None, 6, 7, 96)     0           block_11_add[0][0]               \n",
            "                                                                 block_12_project_BN[0][0]        \n",
            "__________________________________________________________________________________________________\n",
            "block_13_expand (Conv2D)        (None, 6, 7, 576)    55296       block_12_add[0][0]               \n",
            "__________________________________________________________________________________________________\n",
            "block_13_expand_BN (BatchNormal (None, 6, 7, 576)    2304        block_13_expand[0][0]            \n",
            "__________________________________________________________________________________________________\n",
            "block_13_expand_relu (ReLU)     (None, 6, 7, 576)    0           block_13_expand_BN[0][0]         \n",
            "__________________________________________________________________________________________________\n",
            "block_13_pad (ZeroPadding2D)    (None, 7, 9, 576)    0           block_13_expand_relu[0][0]       \n",
            "__________________________________________________________________________________________________\n",
            "block_13_depthwise (DepthwiseCo (None, 3, 4, 576)    5184        block_13_pad[0][0]               \n",
            "__________________________________________________________________________________________________\n",
            "block_13_depthwise_BN (BatchNor (None, 3, 4, 576)    2304        block_13_depthwise[0][0]         \n",
            "__________________________________________________________________________________________________\n",
            "block_13_depthwise_relu (ReLU)  (None, 3, 4, 576)    0           block_13_depthwise_BN[0][0]      \n",
            "__________________________________________________________________________________________________\n",
            "block_13_project (Conv2D)       (None, 3, 4, 160)    92160       block_13_depthwise_relu[0][0]    \n",
            "__________________________________________________________________________________________________\n",
            "block_13_project_BN (BatchNorma (None, 3, 4, 160)    640         block_13_project[0][0]           \n",
            "__________________________________________________________________________________________________\n",
            "block_14_expand (Conv2D)        (None, 3, 4, 960)    153600      block_13_project_BN[0][0]        \n",
            "__________________________________________________________________________________________________\n",
            "block_14_expand_BN (BatchNormal (None, 3, 4, 960)    3840        block_14_expand[0][0]            \n",
            "__________________________________________________________________________________________________\n",
            "block_14_expand_relu (ReLU)     (None, 3, 4, 960)    0           block_14_expand_BN[0][0]         \n",
            "__________________________________________________________________________________________________\n",
            "block_14_depthwise (DepthwiseCo (None, 3, 4, 960)    8640        block_14_expand_relu[0][0]       \n",
            "__________________________________________________________________________________________________\n",
            "block_14_depthwise_BN (BatchNor (None, 3, 4, 960)    3840        block_14_depthwise[0][0]         \n",
            "__________________________________________________________________________________________________\n",
            "block_14_depthwise_relu (ReLU)  (None, 3, 4, 960)    0           block_14_depthwise_BN[0][0]      \n",
            "__________________________________________________________________________________________________\n",
            "block_14_project (Conv2D)       (None, 3, 4, 160)    153600      block_14_depthwise_relu[0][0]    \n",
            "__________________________________________________________________________________________________\n",
            "block_14_project_BN (BatchNorma (None, 3, 4, 160)    640         block_14_project[0][0]           \n",
            "__________________________________________________________________________________________________\n",
            "block_14_add (Add)              (None, 3, 4, 160)    0           block_13_project_BN[0][0]        \n",
            "                                                                 block_14_project_BN[0][0]        \n",
            "__________________________________________________________________________________________________\n",
            "block_15_expand (Conv2D)        (None, 3, 4, 960)    153600      block_14_add[0][0]               \n",
            "__________________________________________________________________________________________________\n",
            "block_15_expand_BN (BatchNormal (None, 3, 4, 960)    3840        block_15_expand[0][0]            \n",
            "__________________________________________________________________________________________________\n",
            "block_15_expand_relu (ReLU)     (None, 3, 4, 960)    0           block_15_expand_BN[0][0]         \n",
            "__________________________________________________________________________________________________\n",
            "block_15_depthwise (DepthwiseCo (None, 3, 4, 960)    8640        block_15_expand_relu[0][0]       \n",
            "__________________________________________________________________________________________________\n",
            "block_15_depthwise_BN (BatchNor (None, 3, 4, 960)    3840        block_15_depthwise[0][0]         \n",
            "__________________________________________________________________________________________________\n",
            "block_15_depthwise_relu (ReLU)  (None, 3, 4, 960)    0           block_15_depthwise_BN[0][0]      \n",
            "__________________________________________________________________________________________________\n",
            "block_15_project (Conv2D)       (None, 3, 4, 160)    153600      block_15_depthwise_relu[0][0]    \n",
            "__________________________________________________________________________________________________\n",
            "block_15_project_BN (BatchNorma (None, 3, 4, 160)    640         block_15_project[0][0]           \n",
            "__________________________________________________________________________________________________\n",
            "block_15_add (Add)              (None, 3, 4, 160)    0           block_14_add[0][0]               \n",
            "                                                                 block_15_project_BN[0][0]        \n",
            "__________________________________________________________________________________________________\n",
            "block_16_expand (Conv2D)        (None, 3, 4, 960)    153600      block_15_add[0][0]               \n",
            "__________________________________________________________________________________________________\n",
            "block_16_expand_BN (BatchNormal (None, 3, 4, 960)    3840        block_16_expand[0][0]            \n",
            "__________________________________________________________________________________________________\n",
            "block_16_expand_relu (ReLU)     (None, 3, 4, 960)    0           block_16_expand_BN[0][0]         \n",
            "__________________________________________________________________________________________________\n",
            "block_16_depthwise (DepthwiseCo (None, 3, 4, 960)    8640        block_16_expand_relu[0][0]       \n",
            "__________________________________________________________________________________________________\n",
            "block_16_depthwise_BN (BatchNor (None, 3, 4, 960)    3840        block_16_depthwise[0][0]         \n",
            "__________________________________________________________________________________________________\n",
            "block_16_depthwise_relu (ReLU)  (None, 3, 4, 960)    0           block_16_depthwise_BN[0][0]      \n",
            "__________________________________________________________________________________________________\n",
            "block_16_project (Conv2D)       (None, 3, 4, 320)    307200      block_16_depthwise_relu[0][0]    \n",
            "__________________________________________________________________________________________________\n",
            "block_16_project_BN (BatchNorma (None, 3, 4, 320)    1280        block_16_project[0][0]           \n",
            "__________________________________________________________________________________________________\n",
            "Conv_1 (Conv2D)                 (None, 3, 4, 1280)   409600      block_16_project_BN[0][0]        \n",
            "__________________________________________________________________________________________________\n",
            "Conv_1_bn (BatchNormalization)  (None, 3, 4, 1280)   5120        Conv_1[0][0]                     \n",
            "__________________________________________________________________________________________________\n",
            "out_relu (ReLU)                 (None, 3, 4, 1280)   0           Conv_1_bn[0][0]                  \n",
            "__________________________________________________________________________________________________\n",
            "global_average_pooling2d_4 (Glo (None, 1280)         0           out_relu[0][0]                   \n",
            "__________________________________________________________________________________________________\n",
            "dense_20 (Dense)                (None, 1536)         1967616     global_average_pooling2d_4[0][0] \n",
            "__________________________________________________________________________________________________\n",
            "batch_normalization_4 (BatchNor (None, 1536)         6144        dense_20[0][0]                   \n",
            "__________________________________________________________________________________________________\n",
            "dropout_25 (Dropout)            (None, 1536)         0           batch_normalization_4[0][0]      \n",
            "__________________________________________________________________________________________________\n",
            "dense_21 (Dense)                (None, 10)           15370       dropout_25[0][0]                 \n",
            "==================================================================================================\n",
            "Total params: 4,247,114\n",
            "Trainable params: 4,209,930\n",
            "Non-trainable params: 37,184\n",
            "__________________________________________________________________________________________________\n"
          ],
          "name": "stdout"
        }
      ]
    },
    {
      "cell_type": "code",
      "metadata": {
        "id": "vtFMtPf2hqdy"
      },
      "source": [
        "#modelv01.compile(loss='mean_squared_error',\n",
        "#              optimizer='adadelta',\n",
        "#              metrics='binary_accuracy')\n",
        "\n",
        "modelv01.compile(optimizer=\"rmsprop\", loss='mean_squared_error',metrics=[\"mae\"])\n"
      ],
      "execution_count": null,
      "outputs": []
    },
    {
      "cell_type": "markdown",
      "metadata": {
        "id": "KNK9E6YO5s5E"
      },
      "source": [
        "# Sequential Model"
      ]
    },
    {
      "cell_type": "code",
      "metadata": {
        "id": "fRlwiEy45itY"
      },
      "source": [
        "## Building the CNN-based Deep Learning model\n",
        "# diminsions of the image in the training process\n",
        "x_ = image_size_training[0]\n",
        "y_ = image_size_training[1]\n",
        "\n",
        "# build the model\n",
        "model = Sequential()\n",
        "\n",
        "model.add(Conv2D(filters=8, kernel_size=(3, 3), padding='same', activation=\"relu\", input_shape=(y_,x_,3)))\n",
        "model.add(Conv2D(filters=8, kernel_size=(3, 3), padding='same', activation='relu'))\n",
        "model.add(MaxPooling2D(pool_size=2))\n",
        "model.add(Dropout(0.2))\n",
        "\n",
        "model.add(Conv2D(filters=16, kernel_size=(3, 3), padding='same', activation='relu'))\n",
        "model.add(Conv2D(filters=16, kernel_size=(3, 3), padding='same', activation='relu'))\n",
        "model.add(MaxPooling2D(pool_size=2))\n",
        "model.add(Dropout(0.2))\n",
        "\n",
        "model.add(Conv2D(filters=32, kernel_size=(3, 3), padding='same', activation=\"relu\"))\n",
        "model.add(MaxPooling2D(pool_size=2))\n",
        "model.add(Dropout(0.2))\n",
        "\n",
        "model.add(Conv2D(filters=64, kernel_size=(3, 3), padding='same', activation='relu'))\n",
        "model.add(MaxPooling2D(pool_size=2))\n",
        "model.add(Dropout(0.2))\n",
        "model.add(Flatten())\n",
        "\n",
        "model.add(Dense(64, activation='relu'))\n",
        "model.add(Dropout(0.2))\n",
        "\n",
        "model.add(Dense(32, activation='relu'))\n",
        "model.add(Dropout(0.2))\n",
        "\n",
        "model.add(Dense(16, activation='relu'))\n",
        "model.add(Dropout(0.2))\n",
        "\n",
        "model.add(Dense(10, activation='relu'))  # Output Layer. Ideally reduce number of outputs\n"
      ],
      "execution_count": null,
      "outputs": []
    },
    {
      "cell_type": "code",
      "metadata": {
        "colab": {
          "base_uri": "https://localhost:8080/"
        },
        "id": "-KTIDnTb5ixT",
        "outputId": "38bf3830-ce9a-4eac-8460-17230a71c110"
      },
      "source": [
        "## Having a quick view of the model architecture\n",
        "model.summary()"
      ],
      "execution_count": null,
      "outputs": [
        {
          "output_type": "stream",
          "text": [
            "Model: \"sequential_3\"\n",
            "_________________________________________________________________\n",
            "Layer (type)                 Output Shape              Param #   \n",
            "=================================================================\n",
            "conv2d_18 (Conv2D)           (None, 81, 100, 8)        224       \n",
            "_________________________________________________________________\n",
            "conv2d_19 (Conv2D)           (None, 81, 100, 8)        584       \n",
            "_________________________________________________________________\n",
            "max_pooling2d_12 (MaxPooling (None, 40, 50, 8)         0         \n",
            "_________________________________________________________________\n",
            "dropout_26 (Dropout)         (None, 40, 50, 8)         0         \n",
            "_________________________________________________________________\n",
            "conv2d_20 (Conv2D)           (None, 40, 50, 16)        1168      \n",
            "_________________________________________________________________\n",
            "conv2d_21 (Conv2D)           (None, 40, 50, 16)        2320      \n",
            "_________________________________________________________________\n",
            "max_pooling2d_13 (MaxPooling (None, 20, 25, 16)        0         \n",
            "_________________________________________________________________\n",
            "dropout_27 (Dropout)         (None, 20, 25, 16)        0         \n",
            "_________________________________________________________________\n",
            "conv2d_22 (Conv2D)           (None, 20, 25, 32)        4640      \n",
            "_________________________________________________________________\n",
            "max_pooling2d_14 (MaxPooling (None, 10, 12, 32)        0         \n",
            "_________________________________________________________________\n",
            "dropout_28 (Dropout)         (None, 10, 12, 32)        0         \n",
            "_________________________________________________________________\n",
            "conv2d_23 (Conv2D)           (None, 10, 12, 64)        18496     \n",
            "_________________________________________________________________\n",
            "max_pooling2d_15 (MaxPooling (None, 5, 6, 64)          0         \n",
            "_________________________________________________________________\n",
            "dropout_29 (Dropout)         (None, 5, 6, 64)          0         \n",
            "_________________________________________________________________\n",
            "flatten_3 (Flatten)          (None, 1920)              0         \n",
            "_________________________________________________________________\n",
            "dense_22 (Dense)             (None, 64)                122944    \n",
            "_________________________________________________________________\n",
            "dropout_30 (Dropout)         (None, 64)                0         \n",
            "_________________________________________________________________\n",
            "dense_23 (Dense)             (None, 32)                2080      \n",
            "_________________________________________________________________\n",
            "dropout_31 (Dropout)         (None, 32)                0         \n",
            "_________________________________________________________________\n",
            "dense_24 (Dense)             (None, 16)                528       \n",
            "_________________________________________________________________\n",
            "dropout_32 (Dropout)         (None, 16)                0         \n",
            "_________________________________________________________________\n",
            "dense_25 (Dense)             (None, 10)                170       \n",
            "=================================================================\n",
            "Total params: 153,154\n",
            "Trainable params: 153,154\n",
            "Non-trainable params: 0\n",
            "_________________________________________________________________\n"
          ],
          "name": "stdout"
        }
      ]
    },
    {
      "cell_type": "code",
      "metadata": {
        "id": "qEjSfjLg5i1e"
      },
      "source": [
        "model.compile(optimizer=\"rmsprop\", loss='mean_squared_error',metrics=[\"mae\"])\n"
      ],
      "execution_count": null,
      "outputs": []
    },
    {
      "cell_type": "markdown",
      "metadata": {
        "id": "SUaNbR6l51Lm"
      },
      "source": [
        ""
      ]
    },
    {
      "cell_type": "markdown",
      "metadata": {
        "id": "4aTReG2Q52m1"
      },
      "source": [
        "# Model Training"
      ]
    },
    {
      "cell_type": "code",
      "metadata": {
        "colab": {
          "base_uri": "https://localhost:8080/"
        },
        "id": "1KgBjZhi5i6A",
        "outputId": "d7caf075-3360-4659-b067-097a4d4ea107"
      },
      "source": [
        "# fitting the model with our data & this is for sequential model\n",
        "training_process = model.fit(X_train, y_train, epochs=20, validation_data=(X_val, y_val), batch_size=4, shuffle=True)"
      ],
      "execution_count": null,
      "outputs": [
        {
          "output_type": "stream",
          "text": [
            "Epoch 1/20\n",
            "350/350 [==============================] - 22s 60ms/step - loss: 0.2578 - mae: 0.3816 - val_loss: 0.2300 - val_mae: 0.3782\n",
            "Epoch 2/20\n",
            "350/350 [==============================] - 20s 57ms/step - loss: 0.2438 - mae: 0.3924 - val_loss: 0.2290 - val_mae: 0.3887\n",
            "Epoch 3/20\n",
            "350/350 [==============================] - 20s 57ms/step - loss: 0.2412 - mae: 0.3970 - val_loss: 0.2288 - val_mae: 0.3882\n",
            "Epoch 4/20\n",
            "350/350 [==============================] - 20s 57ms/step - loss: 0.2402 - mae: 0.3978 - val_loss: 0.2291 - val_mae: 0.3884\n",
            "Epoch 5/20\n",
            "350/350 [==============================] - 20s 57ms/step - loss: 0.2394 - mae: 0.3989 - val_loss: 0.2294 - val_mae: 0.3946\n",
            "Epoch 6/20\n",
            "350/350 [==============================] - 20s 56ms/step - loss: 0.2387 - mae: 0.3992 - val_loss: 0.2287 - val_mae: 0.3926\n",
            "Epoch 7/20\n",
            "350/350 [==============================] - 20s 56ms/step - loss: 0.2381 - mae: 0.3988 - val_loss: 0.2292 - val_mae: 0.3919\n",
            "Epoch 8/20\n",
            "350/350 [==============================] - 20s 56ms/step - loss: 0.2377 - mae: 0.3990 - val_loss: 0.2287 - val_mae: 0.3927\n",
            "Epoch 9/20\n",
            "350/350 [==============================] - 20s 57ms/step - loss: 0.2381 - mae: 0.3996 - val_loss: 0.2289 - val_mae: 0.3922\n",
            "Epoch 10/20\n",
            "350/350 [==============================] - 20s 56ms/step - loss: 0.2375 - mae: 0.3999 - val_loss: 0.2289 - val_mae: 0.3911\n",
            "Epoch 11/20\n",
            "350/350 [==============================] - 20s 56ms/step - loss: 0.2378 - mae: 0.4003 - val_loss: 0.2287 - val_mae: 0.3885\n",
            "Epoch 12/20\n",
            "350/350 [==============================] - 20s 57ms/step - loss: 0.2376 - mae: 0.3992 - val_loss: 0.2289 - val_mae: 0.3916\n",
            "Epoch 13/20\n",
            "350/350 [==============================] - 20s 56ms/step - loss: 0.2376 - mae: 0.3992 - val_loss: 0.2288 - val_mae: 0.3921\n",
            "Epoch 14/20\n",
            "350/350 [==============================] - 20s 57ms/step - loss: 0.2376 - mae: 0.4003 - val_loss: 0.2291 - val_mae: 0.3923\n",
            "Epoch 15/20\n",
            "350/350 [==============================] - 20s 57ms/step - loss: 0.2371 - mae: 0.3998 - val_loss: 0.2289 - val_mae: 0.3908\n",
            "Epoch 16/20\n",
            "350/350 [==============================] - 20s 57ms/step - loss: 0.2373 - mae: 0.3996 - val_loss: 0.2288 - val_mae: 0.3912\n",
            "Epoch 17/20\n",
            "350/350 [==============================] - 20s 57ms/step - loss: 0.2375 - mae: 0.3997 - val_loss: 0.2289 - val_mae: 0.3924\n",
            "Epoch 18/20\n",
            "350/350 [==============================] - 20s 57ms/step - loss: 0.2373 - mae: 0.4001 - val_loss: 0.2289 - val_mae: 0.3922\n",
            "Epoch 19/20\n",
            "350/350 [==============================] - 20s 57ms/step - loss: 0.2373 - mae: 0.4000 - val_loss: 0.2289 - val_mae: 0.3916\n",
            "Epoch 20/20\n",
            "350/350 [==============================] - 20s 57ms/step - loss: 0.2373 - mae: 0.4005 - val_loss: 0.2288 - val_mae: 0.3904\n"
          ],
          "name": "stdout"
        }
      ]
    },
    {
      "cell_type": "code",
      "metadata": {
        "colab": {
          "base_uri": "https://localhost:8080/"
        },
        "id": "B-dDiXd-5i-B",
        "outputId": "5d5d819b-3187-4ca1-a6cf-052520631942"
      },
      "source": [
        "## Testing the model\n",
        "### Evaluating the model performance on the basis of \n",
        "model.evaluate(X_test, y_test)"
      ],
      "execution_count": null,
      "outputs": [
        {
          "output_type": "stream",
          "text": [
            "10/10 [==============================] - 1s 93ms/step - loss: 0.2393 - mae: 0.4009\n"
          ],
          "name": "stdout"
        },
        {
          "output_type": "execute_result",
          "data": {
            "text/plain": [
              "[0.23927907645702362, 0.4008978009223938]"
            ]
          },
          "metadata": {},
          "execution_count": 231
        }
      ]
    },
    {
      "cell_type": "markdown",
      "metadata": {
        "id": "fQgMp0vn6E6e"
      },
      "source": [
        "Training of Mobile V2 model"
      ]
    },
    {
      "cell_type": "code",
      "metadata": {
        "colab": {
          "base_uri": "https://localhost:8080/"
        },
        "id": "FbOquq1i6JNu",
        "outputId": "6bc307cf-434f-4bb8-99bb-43e340342275"
      },
      "source": [
        "training_process_v2 = modelv01.fit(X_train, y_train, epochs=30, validation_data=(X_val, y_val), batch_size=4, shuffle=True)\n"
      ],
      "execution_count": null,
      "outputs": [
        {
          "output_type": "stream",
          "text": [
            "Epoch 1/20\n",
            "350/350 [==============================] - 90s 232ms/step - loss: 0.2525 - mae: 0.4064 - val_loss: 0.2111 - val_mae: 0.3882\n",
            "Epoch 2/20\n",
            "350/350 [==============================] - 79s 225ms/step - loss: 0.2301 - mae: 0.3915 - val_loss: 0.2159 - val_mae: 0.4141\n",
            "Epoch 3/20\n",
            "350/350 [==============================] - 80s 229ms/step - loss: 0.2292 - mae: 0.3930 - val_loss: 0.2273 - val_mae: 0.3938\n",
            "Epoch 4/20\n",
            "350/350 [==============================] - 79s 225ms/step - loss: 0.2299 - mae: 0.3966 - val_loss: 0.2059 - val_mae: 0.3824\n",
            "Epoch 5/20\n",
            "350/350 [==============================] - 78s 224ms/step - loss: 0.2226 - mae: 0.3935 - val_loss: 0.2143 - val_mae: 0.4014\n",
            "Epoch 6/20\n",
            "350/350 [==============================] - 78s 224ms/step - loss: 0.2259 - mae: 0.3991 - val_loss: 0.2050 - val_mae: 0.3997\n",
            "Epoch 7/20\n",
            "350/350 [==============================] - 77s 221ms/step - loss: 0.2232 - mae: 0.3985 - val_loss: 0.2039 - val_mae: 0.4079\n",
            "Epoch 8/20\n",
            "350/350 [==============================] - 77s 221ms/step - loss: 0.2256 - mae: 0.3995 - val_loss: 0.2064 - val_mae: 0.4069\n",
            "Epoch 9/20\n",
            "350/350 [==============================] - 78s 223ms/step - loss: 0.2241 - mae: 0.3990 - val_loss: 0.2023 - val_mae: 0.4009\n",
            "Epoch 10/20\n",
            "350/350 [==============================] - 79s 224ms/step - loss: 0.2219 - mae: 0.3975 - val_loss: 0.2355 - val_mae: 0.4248\n",
            "Epoch 11/20\n",
            "350/350 [==============================] - 79s 225ms/step - loss: 0.2214 - mae: 0.3978 - val_loss: 0.2128 - val_mae: 0.3853\n",
            "Epoch 12/20\n",
            "350/350 [==============================] - 78s 223ms/step - loss: 0.2191 - mae: 0.3957 - val_loss: 0.2128 - val_mae: 0.4092\n",
            "Epoch 13/20\n",
            "350/350 [==============================] - 78s 222ms/step - loss: 0.2146 - mae: 0.3906 - val_loss: 0.3046 - val_mae: 0.4073\n",
            "Epoch 14/20\n",
            "350/350 [==============================] - 78s 222ms/step - loss: 0.2097 - mae: 0.3867 - val_loss: 0.3021 - val_mae: 0.3420\n",
            "Epoch 15/20\n",
            "350/350 [==============================] - 78s 222ms/step - loss: 0.2068 - mae: 0.3767 - val_loss: 0.3766 - val_mae: 0.4222\n",
            "Epoch 16/20\n",
            "350/350 [==============================] - 78s 223ms/step - loss: 0.2003 - mae: 0.3674 - val_loss: 0.1894 - val_mae: 0.3759\n",
            "Epoch 17/20\n",
            "350/350 [==============================] - 78s 223ms/step - loss: 0.1904 - mae: 0.3505 - val_loss: 0.1587 - val_mae: 0.2928\n",
            "Epoch 18/20\n",
            "350/350 [==============================] - 79s 227ms/step - loss: 0.1809 - mae: 0.3330 - val_loss: 0.2230 - val_mae: 0.3356\n",
            "Epoch 19/20\n",
            "350/350 [==============================] - 79s 224ms/step - loss: 0.1801 - mae: 0.3306 - val_loss: 0.1901 - val_mae: 0.2796\n",
            "Epoch 20/20\n",
            "350/350 [==============================] - 78s 223ms/step - loss: 0.1758 - mae: 0.3208 - val_loss: 0.2611 - val_mae: 0.3492\n"
          ],
          "name": "stdout"
        }
      ]
    },
    {
      "cell_type": "code",
      "metadata": {
        "colab": {
          "base_uri": "https://localhost:8080/"
        },
        "id": "Ti6rCM5h6JCq",
        "outputId": "543eed45-7b5e-408d-a90f-21775cdc1d62"
      },
      "source": [
        "modelv01.evaluate(X_test, y_test)"
      ],
      "execution_count": null,
      "outputs": [
        {
          "output_type": "stream",
          "text": [
            "10/10 [==============================] - 3s 172ms/step - loss: 0.2669 - mae: 0.3527\n"
          ],
          "name": "stdout"
        },
        {
          "output_type": "execute_result",
          "data": {
            "text/plain": [
              "[0.26694679260253906, 0.35265612602233887]"
            ]
          },
          "metadata": {},
          "execution_count": 233
        }
      ]
    },
    {
      "cell_type": "code",
      "metadata": {
        "id": "G95O8Oid6IyD"
      },
      "source": [
        ""
      ],
      "execution_count": null,
      "outputs": []
    },
    {
      "cell_type": "code",
      "metadata": {
        "id": "a6538i1J6Ims"
      },
      "source": [
        ""
      ],
      "execution_count": null,
      "outputs": []
    },
    {
      "cell_type": "code",
      "metadata": {
        "id": "3TqyDxrh6AKN"
      },
      "source": [
        "def predictions_test_model(index, modelName):\n",
        "    img = tf.keras.preprocessing.image.load_img(\"{}/0{}.jpg\".format(images_data_path, index),target_size=(y_,x_,3))\n",
        "    img = tf.keras.preprocessing.image.img_to_array(img)\n",
        "    img = img/255\n",
        "    points_list = \"\"\n",
        "    if modelName == \"Mobile\":\n",
        "      points_list = model.predict(img.reshape(1,y_,x_,3)).astype('int')[0] \n",
        "    elif modelName == \"Sequential\":\n",
        "      points_list = model.predict(img.reshape(1,y_,x_,3)).astype('int')[0]\n",
        "    \n",
        "    return points_list"
      ],
      "execution_count": null,
      "outputs": []
    },
    {
      "cell_type": "code",
      "metadata": {
        "id": "Ima83X-36AO_"
      },
      "source": [
        "# function to plot the image with green box around the faces\n",
        "def test_image_with_box_plot(index, pred_or_actual = 'pred', pointsColor='bo-' ,boxcolor='g', modelName=\"Sequential\"):\n",
        "    print(\"{}/0{}.jpg\".format(images_data_path, index))\n",
        "    img = tf.keras.preprocessing.image.load_img(\"{}/0{}.jpg\".format(images_data_path, index),target_size=(y_org,x_org,3))\n",
        "    img = tf.keras.preprocessing.image.img_to_array(img)\n",
        "    test_image = img/255\n",
        "    \n",
        "    # predictions of key points on the face\n",
        "    if pred_or_actual == 'pred':\n",
        "        points_list = predictions_test_model(index, modelName)        # this for predections of the model\n",
        "    elif pred_or_actual == 'actual':\n",
        "        points_list = image_key_points_list(int(index))   # this for the actual labels of the test data\n",
        "    \n",
        "    # Create figure and axes\n",
        "    fig, ax = plt.subplots()\n",
        "    \n",
        "    # plot the image\n",
        "    ax.imshow(test_image)\n",
        "    \n",
        "    return points_list"
      ],
      "execution_count": null,
      "outputs": []
    },
    {
      "cell_type": "code",
      "metadata": {
        "colab": {
          "base_uri": "https://localhost:8080/",
          "height": 456
        },
        "id": "xK6GI8Ba6ATI",
        "outputId": "e4866580-57c4-4e5f-ca93-809e5b81957f"
      },
      "source": [
        "# Using the model to predict a sample image which doesn't exist in train,test, or validation data\n",
        "index = str(random.randint(1,images_data_size )).zfill(5)\n",
        "attributes_list = test_image_with_box_plot(index, pred_or_actual = 'pred', pointsColor='mo-' ,boxcolor='r', modelName=\"Sequential\")\n",
        "for attribute in attributes_list:\n",
        "  print(attribute)"
      ],
      "execution_count": null,
      "outputs": [
        {
          "output_type": "stream",
          "text": [
            "/content/gdrive/MyDrive/CelebA/Img/000427.jpg\n",
            "0\n",
            "0\n",
            "0\n",
            "0\n",
            "0\n",
            "0\n",
            "0\n",
            "0\n",
            "0\n",
            "0\n"
          ],
          "name": "stdout"
        },
        {
          "output_type": "display_data",
          "data": {
            "image/png": "[encoded data removed]",
            "text/plain": [
              "<Figure size 432x288 with 1 Axes>"
            ]
          },
          "metadata": {
            "needs_background": "light"
          }
        }
      ]
    },
    {
      "cell_type": "code",
      "metadata": {
        "colab": {
          "base_uri": "https://localhost:8080/",
          "height": 456
        },
        "id": "g1oqxu-r9vkF",
        "outputId": "69fb7a59-0446-43e7-f141-f959157d8e81"
      },
      "source": [
        "attributes_list1 = test_image_with_box_plot(index, pred_or_actual = 'pred', pointsColor='mo-' ,boxcolor='r', modelName=\"Mobile\")\n",
        "for attribute1 in attributes_list1:\n",
        "  print(attribute1)"
      ],
      "execution_count": null,
      "outputs": [
        {
          "output_type": "stream",
          "text": [
            "/content/gdrive/MyDrive/CelebA/Img/000427.jpg\n",
            "0\n",
            "0\n",
            "0\n",
            "0\n",
            "0\n",
            "0\n",
            "0\n",
            "0\n",
            "0\n",
            "0\n"
          ],
          "name": "stdout"
        },
        {
          "output_type": "display_data",
          "data": {
            "image/png": "[encoded data removed]",
            "text/plain": [
              "<Figure size 432x288 with 1 Axes>"
            ]
          },
          "metadata": {
            "needs_background": "light"
          }
        }
      ]
    },
    {
      "cell_type": "code",
      "metadata": {
        "colab": {
          "base_uri": "https://localhost:8080/",
          "height": 456
        },
        "id": "ff5hrTkSbYPW",
        "outputId": "434790af-faba-4dd9-f890-be8ae6358c47"
      },
      "source": [
        "attributes_list = test_image_with_box_plot(str(index), pred_or_actual = 'actual', pointsColor='mo-' ,boxcolor='r')\n",
        "for attribute in attributes_list:\n",
        "  print(attribute)"
      ],
      "execution_count": null,
      "outputs": [
        {
          "output_type": "stream",
          "text": [
            "/content/gdrive/MyDrive/CelebA/Img/000427.jpg\n",
            "1\n",
            "0\n",
            "1\n",
            "0\n",
            "0\n",
            "1\n",
            "1\n",
            "0\n",
            "1\n",
            "0\n"
          ],
          "name": "stdout"
        },
        {
          "output_type": "display_data",
          "data": {
            "image/png": "[encoded data removed]",
            "text/plain": [
              "<Figure size 432x288 with 1 Axes>"
            ]
          },
          "metadata": {
            "needs_background": "light"
          }
        }
      ]
    },
    {
      "cell_type": "code",
      "metadata": {
        "colab": {
          "base_uri": "https://localhost:8080/",
          "height": 265
        },
        "id": "8NMYt-fR6AXu",
        "outputId": "a2ca0253-41d7-4d3f-cb4b-3e3252fa96f5"
      },
      "source": [
        "# losses of both training and validation sets\n",
        "loss = training_process.history['loss']\n",
        "val_loss = training_process.history['val_loss']\n",
        "\n",
        "# plot both losses\n",
        "plt.plot(loss)\n",
        "plt.plot(val_loss)\n",
        "plt.legend(['loss', 'val_loss']);"
      ],
      "execution_count": null,
      "outputs": [
        {
          "output_type": "display_data",
          "data": {
            "image/png": "[encoded data removed]",
            "text/plain": [
              "<Figure size 432x288 with 1 Axes>"
            ]
          },
          "metadata": {
            "needs_background": "light"
          }
        }
      ]
    },
    {
      "cell_type": "code",
      "metadata": {
        "id": "3lI0U_B-6AcK"
      },
      "source": [
        "## Saving the model for future use\n",
        "model.save(\"modelv01.h5\")"
      ],
      "execution_count": null,
      "outputs": []
    }
  ]
}