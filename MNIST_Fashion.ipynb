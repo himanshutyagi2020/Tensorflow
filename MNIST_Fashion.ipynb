{
  "nbformat": 4,
  "nbformat_minor": 0,
  "metadata": {
    "colab": {
      "name": "MNIST_Fashion.ipynb",
      "provenance": [],
      "collapsed_sections": [],
      "authorship_tag": "ABX9TyNMYM6ll9UDITLTd3Sr1atI",
      "include_colab_link": true
    },
    "kernelspec": {
      "name": "python3",
      "display_name": "Python 3"
    },
    "language_info": {
      "name": "python"
    }
  },
  "cells": [
    {
      "cell_type": "markdown",
      "metadata": {
        "id": "view-in-github",
        "colab_type": "text"
      },
      "source": [
        "<a href=\"https://colab.research.google.com/github/himanshutyagi2020/Tensorflow/blob/main/MNIST_Fashion.ipynb\" target=\"_parent\"><img src=\"https://colab.research.google.com/assets/colab-badge.svg\" alt=\"Open In Colab\"/></a>"
      ]
    },
    {
      "cell_type": "code",
      "metadata": {
        "id": "urY-nR3ZKxBJ"
      },
      "source": [
        "import tensorflow as tf\n",
        "from tensorflow import keras"
      ],
      "execution_count": 167,
      "outputs": []
    },
    {
      "cell_type": "code",
      "metadata": {
        "colab": {
          "base_uri": "https://localhost:8080/",
          "height": 35
        },
        "id": "LZmI8oY4LAM1",
        "outputId": "ae71578d-085e-40d2-e7c3-e3ea5420cdc4"
      },
      "source": [
        "tf.__version__"
      ],
      "execution_count": 168,
      "outputs": [
        {
          "output_type": "execute_result",
          "data": {
            "application/vnd.google.colaboratory.intrinsic+json": {
              "type": "string"
            },
            "text/plain": [
              "'2.6.0'"
            ]
          },
          "metadata": {},
          "execution_count": 168
        }
      ]
    },
    {
      "cell_type": "code",
      "metadata": {
        "colab": {
          "base_uri": "https://localhost:8080/",
          "height": 35
        },
        "id": "IEWdvnItLDXZ",
        "outputId": "cc0140b8-fce9-4aa1-e78b-45153aa6ad2a"
      },
      "source": [
        "keras.__version__"
      ],
      "execution_count": 169,
      "outputs": [
        {
          "output_type": "execute_result",
          "data": {
            "application/vnd.google.colaboratory.intrinsic+json": {
              "type": "string"
            },
            "text/plain": [
              "'2.6.0'"
            ]
          },
          "metadata": {},
          "execution_count": 169
        }
      ]
    },
    {
      "cell_type": "code",
      "metadata": {
        "id": "X_Mt94HgLFT7"
      },
      "source": [
        "fashion_mnist = keras.datasets.fashion_mnist"
      ],
      "execution_count": 170,
      "outputs": []
    },
    {
      "cell_type": "code",
      "metadata": {
        "colab": {
          "base_uri": "https://localhost:8080/"
        },
        "id": "TUNQuoP0LNfb",
        "outputId": "4ad2d723-1b76-474e-acb3-805bf5c3d7a8"
      },
      "source": [
        "fashion_mnist"
      ],
      "execution_count": 171,
      "outputs": [
        {
          "output_type": "execute_result",
          "data": {
            "text/plain": [
              "<module 'keras.api._v2.keras.datasets.fashion_mnist' from '/usr/local/lib/python3.7/dist-packages/keras/api/_v2/keras/datasets/fashion_mnist/__init__.py'>"
            ]
          },
          "metadata": {},
          "execution_count": 171
        }
      ]
    },
    {
      "cell_type": "code",
      "metadata": {
        "id": "0mlSEikULQW_"
      },
      "source": [
        "(X_train_full, y_train_full),(X_test,y_test)=fashion_mnist.load_data()"
      ],
      "execution_count": 172,
      "outputs": []
    },
    {
      "cell_type": "code",
      "metadata": {
        "colab": {
          "base_uri": "https://localhost:8080/"
        },
        "id": "aCSKTtYGMDQV",
        "outputId": "112e43c5-8600-4c20-dfa8-97a2b7aa6162"
      },
      "source": [
        "X_train_full.shape"
      ],
      "execution_count": 173,
      "outputs": [
        {
          "output_type": "execute_result",
          "data": {
            "text/plain": [
              "(60000, 28, 28)"
            ]
          },
          "metadata": {},
          "execution_count": 173
        }
      ]
    },
    {
      "cell_type": "code",
      "metadata": {
        "colab": {
          "base_uri": "https://localhost:8080/"
        },
        "id": "6CJ4cdvZMFz1",
        "outputId": "e5402e62-51fe-4322-ffc3-ae4ddc9fa858"
      },
      "source": [
        "y_train_full.shape"
      ],
      "execution_count": 174,
      "outputs": [
        {
          "output_type": "execute_result",
          "data": {
            "text/plain": [
              "(60000,)"
            ]
          },
          "metadata": {},
          "execution_count": 174
        }
      ]
    },
    {
      "cell_type": "code",
      "metadata": {
        "colab": {
          "base_uri": "https://localhost:8080/"
        },
        "id": "oumUOqH1MfFG",
        "outputId": "cbcf4730-b87a-49d8-82d1-57e9caa2b28c"
      },
      "source": [
        "X_test.shape"
      ],
      "execution_count": 175,
      "outputs": [
        {
          "output_type": "execute_result",
          "data": {
            "text/plain": [
              "(10000, 28, 28)"
            ]
          },
          "metadata": {},
          "execution_count": 175
        }
      ]
    },
    {
      "cell_type": "code",
      "metadata": {
        "colab": {
          "base_uri": "https://localhost:8080/"
        },
        "id": "ArXGOZ4xMiiS",
        "outputId": "f38e5248-a511-4c0e-d577-d188403def7d"
      },
      "source": [
        "y_test.shape"
      ],
      "execution_count": 176,
      "outputs": [
        {
          "output_type": "execute_result",
          "data": {
            "text/plain": [
              "(10000,)"
            ]
          },
          "metadata": {},
          "execution_count": 176
        }
      ]
    },
    {
      "cell_type": "code",
      "metadata": {
        "colab": {
          "base_uri": "https://localhost:8080/"
        },
        "id": "nMKxLqZiMkQZ",
        "outputId": "402256f8-5440-489a-827d-970da3ad3194"
      },
      "source": [
        "X_train_full.dtype"
      ],
      "execution_count": 177,
      "outputs": [
        {
          "output_type": "execute_result",
          "data": {
            "text/plain": [
              "dtype('uint8')"
            ]
          },
          "metadata": {},
          "execution_count": 177
        }
      ]
    },
    {
      "cell_type": "code",
      "metadata": {
        "id": "LqNqHVntNjdu"
      },
      "source": [
        "X_valid, X_train = X_train_full[:5000] / 255.0, X_train_full[5000:] / 255.0"
      ],
      "execution_count": 178,
      "outputs": []
    },
    {
      "cell_type": "code",
      "metadata": {
        "id": "PbL-iCMaIzTQ"
      },
      "source": [
        "y_valid, y_train = y_train_full[:5000], y_train_full[5000:]"
      ],
      "execution_count": 179,
      "outputs": []
    },
    {
      "cell_type": "code",
      "metadata": {
        "id": "5lUlf8zUKyJC"
      },
      "source": [
        "class_names = [\"T-shirt/top\",\"Trouser\",\"Pullover\",\"Dress\",\"Coat\",\"Sandal\",\"Shirt\",\"Sneaker\",\"Bag\",\"Ankle boot\"]"
      ],
      "execution_count": 180,
      "outputs": []
    },
    {
      "cell_type": "code",
      "metadata": {
        "colab": {
          "base_uri": "https://localhost:8080/",
          "height": 35
        },
        "id": "ocKL-5ScLUlr",
        "outputId": "4f3c51ea-6983-4801-ca92-17f20eed7b9d"
      },
      "source": [
        "class_names[y_train[0]]"
      ],
      "execution_count": 181,
      "outputs": [
        {
          "output_type": "execute_result",
          "data": {
            "application/vnd.google.colaboratory.intrinsic+json": {
              "type": "string"
            },
            "text/plain": [
              "'Coat'"
            ]
          },
          "metadata": {},
          "execution_count": 181
        }
      ]
    },
    {
      "cell_type": "code",
      "metadata": {
        "id": "tI5T9-iTLkXo"
      },
      "source": [
        "model = keras.models.Sequential()"
      ],
      "execution_count": 182,
      "outputs": []
    },
    {
      "cell_type": "code",
      "metadata": {
        "id": "fTiDRcoLNJaY"
      },
      "source": [
        "model.add(keras.layers.Flatten(input_shape=[28,28]))"
      ],
      "execution_count": 183,
      "outputs": []
    },
    {
      "cell_type": "code",
      "metadata": {
        "id": "_QPBHNzdNUxg"
      },
      "source": [
        "model.add(keras.layers.Dense(300, activation=\"relu\"))"
      ],
      "execution_count": 184,
      "outputs": []
    },
    {
      "cell_type": "code",
      "metadata": {
        "id": "jB84afoDOA7S"
      },
      "source": [
        "model.add(keras.layers.Dense(100, activation=\"relu\"))"
      ],
      "execution_count": 185,
      "outputs": []
    },
    {
      "cell_type": "code",
      "metadata": {
        "id": "yPWEQhQJOLEU"
      },
      "source": [
        "model.add(keras.layers.Dense(10,activation=\"softmax\"))"
      ],
      "execution_count": 186,
      "outputs": []
    },
    {
      "cell_type": "code",
      "metadata": {
        "colab": {
          "base_uri": "https://localhost:8080/"
        },
        "id": "uCKCRaJ7OhmW",
        "outputId": "4a58d4ed-4abc-42c9-968c-b95da3d986b1"
      },
      "source": [
        "model.summary()"
      ],
      "execution_count": 187,
      "outputs": [
        {
          "output_type": "stream",
          "text": [
            "Model: \"sequential_5\"\n",
            "_________________________________________________________________\n",
            "Layer (type)                 Output Shape              Param #   \n",
            "=================================================================\n",
            "flatten_5 (Flatten)          (None, 784)               0         \n",
            "_________________________________________________________________\n",
            "dense_18 (Dense)             (None, 300)               235500    \n",
            "_________________________________________________________________\n",
            "dense_19 (Dense)             (None, 100)               30100     \n",
            "_________________________________________________________________\n",
            "dense_20 (Dense)             (None, 10)                1010      \n",
            "=================================================================\n",
            "Total params: 266,610\n",
            "Trainable params: 266,610\n",
            "Non-trainable params: 0\n",
            "_________________________________________________________________\n"
          ],
          "name": "stdout"
        }
      ]
    },
    {
      "cell_type": "code",
      "metadata": {
        "colab": {
          "base_uri": "https://localhost:8080/"
        },
        "id": "2Hxh1Y04O-1b",
        "outputId": "b052975c-2981-46b6-f81a-420f7e06d18d"
      },
      "source": [
        "model.layers"
      ],
      "execution_count": 188,
      "outputs": [
        {
          "output_type": "execute_result",
          "data": {
            "text/plain": [
              "[<keras.layers.core.Flatten at 0x7fb80020c9d0>,\n",
              " <keras.layers.core.Dense at 0x7fb800263610>,\n",
              " <keras.layers.core.Dense at 0x7fb80048f650>,\n",
              " <keras.layers.core.Dense at 0x7fb800214810>]"
            ]
          },
          "metadata": {},
          "execution_count": 188
        }
      ]
    },
    {
      "cell_type": "code",
      "metadata": {
        "id": "Qor9Tl04PTIy"
      },
      "source": [
        "hidden1 = model.layers[1]"
      ],
      "execution_count": 189,
      "outputs": []
    },
    {
      "cell_type": "code",
      "metadata": {
        "colab": {
          "base_uri": "https://localhost:8080/",
          "height": 35
        },
        "id": "jzYYtS0MQPEL",
        "outputId": "ac415ff1-0883-47a0-cae1-e0aa7e855093"
      },
      "source": [
        "hidden1.name"
      ],
      "execution_count": 190,
      "outputs": [
        {
          "output_type": "execute_result",
          "data": {
            "application/vnd.google.colaboratory.intrinsic+json": {
              "type": "string"
            },
            "text/plain": [
              "'dense_18'"
            ]
          },
          "metadata": {},
          "execution_count": 190
        }
      ]
    },
    {
      "cell_type": "code",
      "metadata": {
        "colab": {
          "base_uri": "https://localhost:8080/"
        },
        "id": "Z00EGeOZQTJ9",
        "outputId": "2753fd05-b71c-4344-c6be-a06f42afae8a"
      },
      "source": [
        "model.get_layer('dense_18') is hidden1"
      ],
      "execution_count": 191,
      "outputs": [
        {
          "output_type": "execute_result",
          "data": {
            "text/plain": [
              "True"
            ]
          },
          "metadata": {},
          "execution_count": 191
        }
      ]
    },
    {
      "cell_type": "code",
      "metadata": {
        "id": "oRmHL36gQpfL"
      },
      "source": [
        "weights, biases = hidden1.get_weights()"
      ],
      "execution_count": 192,
      "outputs": []
    },
    {
      "cell_type": "code",
      "metadata": {
        "colab": {
          "base_uri": "https://localhost:8080/"
        },
        "id": "et54mS_5Rh_V",
        "outputId": "f11a9aca-d461-48ae-ab2a-01ee9c590142"
      },
      "source": [
        "weights"
      ],
      "execution_count": 193,
      "outputs": [
        {
          "output_type": "execute_result",
          "data": {
            "text/plain": [
              "array([[-0.0262922 ,  0.05069049,  0.00292542, ..., -0.05511625,\n",
              "         0.05432144, -0.05929729],\n",
              "       [-0.0177721 ,  0.00093624,  0.0075683 , ..., -0.02974008,\n",
              "        -0.02124222, -0.04300298],\n",
              "       [ 0.01416822,  0.02278346, -0.060241  , ...,  0.05854885,\n",
              "         0.06779982,  0.0548435 ],\n",
              "       ...,\n",
              "       [-0.01045009, -0.00221995, -0.00117806, ...,  0.00099607,\n",
              "         0.06602712,  0.05138049],\n",
              "       [ 0.04279292, -0.05949519, -0.05120173, ..., -0.0067227 ,\n",
              "        -0.03703114,  0.01617396],\n",
              "       [-0.00937267, -0.07411414,  0.00613176, ...,  0.06165402,\n",
              "         0.01332721, -0.01264441]], dtype=float32)"
            ]
          },
          "metadata": {},
          "execution_count": 193
        }
      ]
    },
    {
      "cell_type": "code",
      "metadata": {
        "colab": {
          "base_uri": "https://localhost:8080/"
        },
        "id": "pGW2q_FqRjcU",
        "outputId": "0f9e45d0-bdc1-4e67-bb3d-fab515c7eaf0"
      },
      "source": [
        "weights.shape"
      ],
      "execution_count": 194,
      "outputs": [
        {
          "output_type": "execute_result",
          "data": {
            "text/plain": [
              "(784, 300)"
            ]
          },
          "metadata": {},
          "execution_count": 194
        }
      ]
    },
    {
      "cell_type": "code",
      "metadata": {
        "colab": {
          "base_uri": "https://localhost:8080/"
        },
        "id": "BmjuxE6TRme1",
        "outputId": "34641d83-285b-4a7f-c11a-f76cdcbc6c14"
      },
      "source": [
        "biases"
      ],
      "execution_count": 195,
      "outputs": [
        {
          "output_type": "execute_result",
          "data": {
            "text/plain": [
              "array([0., 0., 0., 0., 0., 0., 0., 0., 0., 0., 0., 0., 0., 0., 0., 0., 0.,\n",
              "       0., 0., 0., 0., 0., 0., 0., 0., 0., 0., 0., 0., 0., 0., 0., 0., 0.,\n",
              "       0., 0., 0., 0., 0., 0., 0., 0., 0., 0., 0., 0., 0., 0., 0., 0., 0.,\n",
              "       0., 0., 0., 0., 0., 0., 0., 0., 0., 0., 0., 0., 0., 0., 0., 0., 0.,\n",
              "       0., 0., 0., 0., 0., 0., 0., 0., 0., 0., 0., 0., 0., 0., 0., 0., 0.,\n",
              "       0., 0., 0., 0., 0., 0., 0., 0., 0., 0., 0., 0., 0., 0., 0., 0., 0.,\n",
              "       0., 0., 0., 0., 0., 0., 0., 0., 0., 0., 0., 0., 0., 0., 0., 0., 0.,\n",
              "       0., 0., 0., 0., 0., 0., 0., 0., 0., 0., 0., 0., 0., 0., 0., 0., 0.,\n",
              "       0., 0., 0., 0., 0., 0., 0., 0., 0., 0., 0., 0., 0., 0., 0., 0., 0.,\n",
              "       0., 0., 0., 0., 0., 0., 0., 0., 0., 0., 0., 0., 0., 0., 0., 0., 0.,\n",
              "       0., 0., 0., 0., 0., 0., 0., 0., 0., 0., 0., 0., 0., 0., 0., 0., 0.,\n",
              "       0., 0., 0., 0., 0., 0., 0., 0., 0., 0., 0., 0., 0., 0., 0., 0., 0.,\n",
              "       0., 0., 0., 0., 0., 0., 0., 0., 0., 0., 0., 0., 0., 0., 0., 0., 0.,\n",
              "       0., 0., 0., 0., 0., 0., 0., 0., 0., 0., 0., 0., 0., 0., 0., 0., 0.,\n",
              "       0., 0., 0., 0., 0., 0., 0., 0., 0., 0., 0., 0., 0., 0., 0., 0., 0.,\n",
              "       0., 0., 0., 0., 0., 0., 0., 0., 0., 0., 0., 0., 0., 0., 0., 0., 0.,\n",
              "       0., 0., 0., 0., 0., 0., 0., 0., 0., 0., 0., 0., 0., 0., 0., 0., 0.,\n",
              "       0., 0., 0., 0., 0., 0., 0., 0., 0., 0., 0.], dtype=float32)"
            ]
          },
          "metadata": {},
          "execution_count": 195
        }
      ]
    },
    {
      "cell_type": "code",
      "metadata": {
        "colab": {
          "base_uri": "https://localhost:8080/"
        },
        "id": "Gh7pl4AMRpcV",
        "outputId": "d0fae8ac-c4d8-4c8e-abb1-b71ca31f8a95"
      },
      "source": [
        "biases.shape"
      ],
      "execution_count": 196,
      "outputs": [
        {
          "output_type": "execute_result",
          "data": {
            "text/plain": [
              "(300,)"
            ]
          },
          "metadata": {},
          "execution_count": 196
        }
      ]
    },
    {
      "cell_type": "code",
      "metadata": {
        "id": "7SFInuFZRs5t"
      },
      "source": [
        "model.compile(loss=\"sparse_categorical_crossentropy\", optimizer=\"sgd\",metrics=[\"accuracy\"])"
      ],
      "execution_count": 197,
      "outputs": []
    },
    {
      "cell_type": "code",
      "metadata": {
        "id": "x7N5rnCmT-l6"
      },
      "source": [
        "#from tensorflow.keras.layers import Dense"
      ],
      "execution_count": 198,
      "outputs": []
    },
    {
      "cell_type": "code",
      "metadata": {
        "id": "giKiVcw5l3Ei"
      },
      "source": [
        "#output_layer = Dense(10)"
      ],
      "execution_count": 199,
      "outputs": []
    },
    {
      "cell_type": "code",
      "metadata": {
        "colab": {
          "base_uri": "https://localhost:8080/"
        },
        "id": "83w0EWBGl6oj",
        "outputId": "883cc50e-865d-4d06-d93b-1cd50c326dc4"
      },
      "source": [
        "history = model.fit(X_train,y_train,epochs=30,validation_data=(X_train,y_train))"
      ],
      "execution_count": 200,
      "outputs": [
        {
          "output_type": "stream",
          "text": [
            "Epoch 1/30\n",
            "1719/1719 [==============================] - 8s 4ms/step - loss: 0.7184 - accuracy: 0.7646 - val_loss: 0.5101 - val_accuracy: 0.8258\n",
            "Epoch 2/30\n",
            "1719/1719 [==============================] - 7s 4ms/step - loss: 0.4848 - accuracy: 0.8318 - val_loss: 0.4442 - val_accuracy: 0.8456\n",
            "Epoch 3/30\n",
            "1719/1719 [==============================] - 7s 4ms/step - loss: 0.4386 - accuracy: 0.8478 - val_loss: 0.4251 - val_accuracy: 0.8521\n",
            "Epoch 4/30\n",
            "1719/1719 [==============================] - 6s 4ms/step - loss: 0.4135 - accuracy: 0.8560 - val_loss: 0.3921 - val_accuracy: 0.8632\n",
            "Epoch 5/30\n",
            "1719/1719 [==============================] - 7s 4ms/step - loss: 0.3930 - accuracy: 0.8623 - val_loss: 0.3815 - val_accuracy: 0.8651\n",
            "Epoch 6/30\n",
            "1719/1719 [==============================] - 7s 4ms/step - loss: 0.3770 - accuracy: 0.8682 - val_loss: 0.3756 - val_accuracy: 0.8647\n",
            "Epoch 7/30\n",
            "1719/1719 [==============================] - 7s 4ms/step - loss: 0.3631 - accuracy: 0.8717 - val_loss: 0.3736 - val_accuracy: 0.8693\n",
            "Epoch 8/30\n",
            "1719/1719 [==============================] - 7s 4ms/step - loss: 0.3520 - accuracy: 0.8757 - val_loss: 0.3768 - val_accuracy: 0.8600\n",
            "Epoch 9/30\n",
            "1719/1719 [==============================] - 7s 4ms/step - loss: 0.3418 - accuracy: 0.8787 - val_loss: 0.3449 - val_accuracy: 0.8789\n",
            "Epoch 10/30\n",
            "1719/1719 [==============================] - 7s 4ms/step - loss: 0.3323 - accuracy: 0.8820 - val_loss: 0.3178 - val_accuracy: 0.8855\n",
            "Epoch 11/30\n",
            "1719/1719 [==============================] - 7s 4ms/step - loss: 0.3236 - accuracy: 0.8842 - val_loss: 0.3113 - val_accuracy: 0.8897\n",
            "Epoch 12/30\n",
            "1719/1719 [==============================] - 7s 4ms/step - loss: 0.3164 - accuracy: 0.8877 - val_loss: 0.3247 - val_accuracy: 0.8804\n",
            "Epoch 13/30\n",
            "1719/1719 [==============================] - 7s 4ms/step - loss: 0.3087 - accuracy: 0.8896 - val_loss: 0.3028 - val_accuracy: 0.8916\n",
            "Epoch 14/30\n",
            "1719/1719 [==============================] - 7s 4ms/step - loss: 0.3031 - accuracy: 0.8911 - val_loss: 0.2884 - val_accuracy: 0.8971\n",
            "Epoch 15/30\n",
            "1719/1719 [==============================] - 7s 4ms/step - loss: 0.2958 - accuracy: 0.8934 - val_loss: 0.2808 - val_accuracy: 0.8992\n",
            "Epoch 16/30\n",
            "1719/1719 [==============================] - 7s 4ms/step - loss: 0.2897 - accuracy: 0.8950 - val_loss: 0.3045 - val_accuracy: 0.8877\n",
            "Epoch 17/30\n",
            "1719/1719 [==============================] - 7s 4ms/step - loss: 0.2849 - accuracy: 0.8967 - val_loss: 0.2769 - val_accuracy: 0.9003\n",
            "Epoch 18/30\n",
            "1719/1719 [==============================] - 7s 4ms/step - loss: 0.2796 - accuracy: 0.8987 - val_loss: 0.2680 - val_accuracy: 0.9052\n",
            "Epoch 19/30\n",
            "1719/1719 [==============================] - 7s 4ms/step - loss: 0.2738 - accuracy: 0.9011 - val_loss: 0.2627 - val_accuracy: 0.9046\n",
            "Epoch 20/30\n",
            "1719/1719 [==============================] - 7s 4ms/step - loss: 0.2694 - accuracy: 0.9027 - val_loss: 0.2581 - val_accuracy: 0.9079\n",
            "Epoch 21/30\n",
            "1719/1719 [==============================] - 7s 4ms/step - loss: 0.2637 - accuracy: 0.9047 - val_loss: 0.2669 - val_accuracy: 0.9028\n",
            "Epoch 22/30\n",
            "1719/1719 [==============================] - 7s 4ms/step - loss: 0.2592 - accuracy: 0.9058 - val_loss: 0.2534 - val_accuracy: 0.9086\n",
            "Epoch 23/30\n",
            "1719/1719 [==============================] - 7s 4ms/step - loss: 0.2544 - accuracy: 0.9086 - val_loss: 0.2598 - val_accuracy: 0.9072\n",
            "Epoch 24/30\n",
            "1719/1719 [==============================] - 7s 4ms/step - loss: 0.2508 - accuracy: 0.9090 - val_loss: 0.2345 - val_accuracy: 0.9161\n",
            "Epoch 25/30\n",
            "1719/1719 [==============================] - 7s 4ms/step - loss: 0.2457 - accuracy: 0.9107 - val_loss: 0.2355 - val_accuracy: 0.9158\n",
            "Epoch 26/30\n",
            "1719/1719 [==============================] - 7s 4ms/step - loss: 0.2418 - accuracy: 0.9122 - val_loss: 0.2274 - val_accuracy: 0.9192\n",
            "Epoch 27/30\n",
            "1719/1719 [==============================] - 7s 4ms/step - loss: 0.2379 - accuracy: 0.9139 - val_loss: 0.2225 - val_accuracy: 0.9200\n",
            "Epoch 28/30\n",
            "1719/1719 [==============================] - 7s 4ms/step - loss: 0.2339 - accuracy: 0.9152 - val_loss: 0.2461 - val_accuracy: 0.9077\n",
            "Epoch 29/30\n",
            "1719/1719 [==============================] - 8s 4ms/step - loss: 0.2307 - accuracy: 0.9164 - val_loss: 0.2196 - val_accuracy: 0.9219\n",
            "Epoch 30/30\n",
            "1719/1719 [==============================] - 7s 4ms/step - loss: 0.2270 - accuracy: 0.9186 - val_loss: 0.2171 - val_accuracy: 0.9223\n"
          ],
          "name": "stdout"
        }
      ]
    },
    {
      "cell_type": "code",
      "metadata": {
        "id": "YeyWlG83mIk3"
      },
      "source": [
        "import pandas as pd\n"
      ],
      "execution_count": 201,
      "outputs": []
    },
    {
      "cell_type": "code",
      "metadata": {
        "id": "lFX4DgjxqLNx"
      },
      "source": [
        "import matplotlib.pylab as plt"
      ],
      "execution_count": 202,
      "outputs": []
    },
    {
      "cell_type": "code",
      "metadata": {
        "colab": {
          "base_uri": "https://localhost:8080/",
          "height": 337
        },
        "id": "X_kVo23SqRcO",
        "outputId": "cbb30d80-0cb9-4399-a33c-bfbc3c9e28d9"
      },
      "source": [
        "pd.DataFrame(history.history).plot(figsize=(8,5))"
      ],
      "execution_count": 204,
      "outputs": [
        {
          "output_type": "execute_result",
          "data": {
            "text/plain": [
              "<matplotlib.axes._subplots.AxesSubplot at 0x7fb7ffc6ae50>"
            ]
          },
          "metadata": {},
          "execution_count": 204
        },
        {
          "output_type": "display_data",
          "data": {
            "image/png": "[encoded data removed]",
            "text/plain": [
              "<Figure size 576x360 with 1 Axes>"
            ]
          },
          "metadata": {
            "needs_background": "light"
          }
        }
      ]
    },
    {
      "cell_type": "code",
      "metadata": {
        "id": "WpV_nu-Yqa_S"
      },
      "source": [
        ""
      ],
      "execution_count": null,
      "outputs": []
    }
  ]
}